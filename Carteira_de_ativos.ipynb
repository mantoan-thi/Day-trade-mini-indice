{
  "nbformat": 4,
  "nbformat_minor": 0,
  "metadata": {
    "kernelspec": {
      "display_name": "Python 3",
      "language": "python",
      "name": "python3"
    },
    "language_info": {
      "codemirror_mode": {
        "name": "ipython",
        "version": 3
      },
      "file_extension": ".py",
      "mimetype": "text/x-python",
      "name": "python",
      "nbconvert_exporter": "python",
      "pygments_lexer": "ipython3",
      "version": "3.8.5"
    },
    "colab": {
      "name": "Carteira_de_ativos.ipynb",
      "provenance": [],
      "include_colab_link": true
    }
  },
  "cells": [
    {
      "cell_type": "markdown",
      "metadata": {
        "id": "view-in-github",
        "colab_type": "text"
      },
      "source": [
        "<a href=\"https://colab.research.google.com/github/mantoan-thi/Day_trade_mini_indice/blob/main/Carteira_de_ativos.ipynb\" target=\"_parent\"><img src=\"https://colab.research.google.com/assets/colab-badge.svg\" alt=\"Open In Colab\"/></a>"
      ]
    },
    {
      "cell_type": "code",
      "metadata": {
        "id": "yEANevixuCeB"
      },
      "source": [
        "import numpy as np\n",
        "import pandas as pd\n",
        "from pandas_datareader import data as wb\n",
        "import seaborn as sns\n",
        "import matplotlib.pyplot as plt\n",
        "import seaborn as sns"
      ],
      "execution_count": null,
      "outputs": []
    },
    {
      "cell_type": "code",
      "metadata": {
        "id": "KNC5NettuCeF"
      },
      "source": [
        "def baixar_ativo(ativo,data_inicial,data_final):\n",
        "    preco = pd.DataFrame()\n",
        "    for t in ativo:\n",
        "        preco[t] = wb.DataReader(t,data_source='yahoo',start=data_inicial,end=data_final)['Adj Close']\n",
        "    return preco\n",
        "def returno_anual(carteira):\n",
        "    preco_normalizado = carteira/carteira.iloc[0]*100\n",
        "    # Retorno diário log\n",
        "    retorno_log = np.log(preco_normalizado/preco_normalizado.shift(1))\n",
        "    return retorno_log"
      ],
      "execution_count": null,
      "outputs": []
    },
    {
      "cell_type": "code",
      "metadata": {
        "id": "HefhAIy-uCeG"
      },
      "source": [
        "ativos = pd.read_csv(\"C:/Users/Thiago/Downloads/IBOVDia_07-06-21.csv\",engine='python',delimiter=\";\")\n",
        "ativos.reset_index(inplace=True)\n",
        "ativos.drop(columns = ativos.columns[-1], inplace=True)\n",
        "ativos.dropna(inplace=True)\n",
        "ativos['Part. (%)'] = ativos['Part. (%)'].apply(lambda x: x.replace(\",\",\".\"))   \n",
        "ativos['Part. (%)'] = ativos['Part. (%)'].apply(float) \n",
        "ativos = ativos[ativos['Part. (%)'] > 4]"
      ],
      "execution_count": null,
      "outputs": []
    },
    {
      "cell_type": "code",
      "metadata": {
        "id": "z7-FetK3uCeH",
        "outputId": "414cd696-72fe-442f-d913-25b1f0113c47"
      },
      "source": [
        "indice_ibov=['^BVSP']\n",
        "New_ativos = []\n",
        "for i in ativos['Código']:\n",
        "    New_ativos.append(i +'.SA')\n",
        "New_ativos = New_ativos+indice_ibov\n",
        "New_ativos"
      ],
      "execution_count": null,
      "outputs": [
        {
          "output_type": "execute_result",
          "data": {
            "text/plain": [
              "['B3SA3.SA',\n",
              " 'BBDC4.SA',\n",
              " 'ITUB4.SA',\n",
              " 'PETR3.SA',\n",
              " 'PETR4.SA',\n",
              " 'VALE3.SA',\n",
              " '^BVSP']"
            ]
          },
          "metadata": {
            "tags": []
          },
          "execution_count": 8
        }
      ]
    },
    {
      "cell_type": "code",
      "metadata": {
        "id": "dbqzf8AauCeI"
      },
      "source": [
        "#New_ativos = ['B3SA3.SA','GNDI3.SA','MGLU3.SA','WEGE3.SA']\n",
        "dataset = baixar_ativo(New_ativos,'2020-01-01','2021-06-05')\n",
        "retorno_anual = returno_anual(dataset)"
      ],
      "execution_count": null,
      "outputs": []
    },
    {
      "cell_type": "code",
      "metadata": {
        "scrolled": true,
        "id": "kQUDISkZuCeJ"
      },
      "source": [
        "def analise(num_comb):\n",
        "    melhor_retorno =0.2\n",
        "    melhores_pesos = []\n",
        "    print('Analisando...')\n",
        "    print('Total de análises previstas: ',num_comb)\n",
        "    for x in range(num_comb):\n",
        "        print(x,end='\\r')\n",
        "        pesos = np.random.random(len(New_ativos))\n",
        "        pesos/= np.sum(pesos)\n",
        "        ret = np.sum(pesos*retorno_anual.mean())*250\n",
        "        volt = np.sqrt(np.dot(pesos.T,np.dot(retorno_anual.cov()*250,pesos)))\n",
        "        if ret > melhor_retorno:\n",
        "            melhor_retorno = ret\n",
        "            Retorno_da_carteira = ret\n",
        "            Volatilidade_da_carteira = volt\n",
        "            melhores_pesos = pesos\n",
        "        #Retorno_da_carteira.append(np.sum(pesos*retorno_anual.mean())*250)\n",
        "        #Volatilidade_da_carteira.append(np.sqrt(np.dot(pesos.T,np.dot(retorno_anual.cov()*250,pesos))))\n",
        "    print('\\n\\nMelhor retorno: {:0.2%}'.format(round(Retorno_da_carteira,2)))\n",
        "    print('Volatilidade: {:0.2%}'.format(round(Volatilidade_da_carteira,2)))\n",
        "    print('Melhores pesos: ',melhores_pesos) \n",
        "\n",
        "    print('\\nComposição da carteira')\n",
        "    count = 0\n",
        "    valor = 1000\n",
        "    for i in dataset.columns:\n",
        "        print(i,'= {:0.2%}'.format(round(melhores_pesos[count],2)))\n",
        "        count +=1\n",
        "    valor = 89.30   \n",
        "    print('\\nInvestimento',valor)   \n",
        "    count = 0\n",
        "    for i in dataset.columns:\n",
        "        vlr_invs = round(melhores_pesos[count],2)*valor\n",
        "        if vlr_invs > 0:\n",
        "            print('valor investido: ',i,'= R$',(round(melhores_pesos[count]*valor,2)))\n",
        "        count +=1\n"
      ],
      "execution_count": null,
      "outputs": []
    },
    {
      "cell_type": "code",
      "metadata": {
        "id": "0aFujr0fuCeJ"
      },
      "source": [
        "dataset = baixar_ativo(New_ativos,'2020-01-01','2021-06-05')"
      ],
      "execution_count": null,
      "outputs": []
    },
    {
      "cell_type": "code",
      "metadata": {
        "id": "p4zu7MgRuCeK",
        "outputId": "497baba5-d411-4e2b-d845-f0e7da517c1d"
      },
      "source": [
        "dataset"
      ],
      "execution_count": null,
      "outputs": [
        {
          "output_type": "execute_result",
          "data": {
            "text/html": [
              "<div>\n",
              "<style scoped>\n",
              "    .dataframe tbody tr th:only-of-type {\n",
              "        vertical-align: middle;\n",
              "    }\n",
              "\n",
              "    .dataframe tbody tr th {\n",
              "        vertical-align: top;\n",
              "    }\n",
              "\n",
              "    .dataframe thead th {\n",
              "        text-align: right;\n",
              "    }\n",
              "</style>\n",
              "<table border=\"1\" class=\"dataframe\">\n",
              "  <thead>\n",
              "    <tr style=\"text-align: right;\">\n",
              "      <th></th>\n",
              "      <th>B3SA3.SA</th>\n",
              "      <th>BBDC4.SA</th>\n",
              "      <th>ITUB4.SA</th>\n",
              "      <th>PETR3.SA</th>\n",
              "      <th>PETR4.SA</th>\n",
              "      <th>VALE3.SA</th>\n",
              "      <th>^BVSP</th>\n",
              "    </tr>\n",
              "    <tr>\n",
              "      <th>Date</th>\n",
              "      <th></th>\n",
              "      <th></th>\n",
              "      <th></th>\n",
              "      <th></th>\n",
              "      <th></th>\n",
              "      <th></th>\n",
              "      <th></th>\n",
              "    </tr>\n",
              "  </thead>\n",
              "  <tbody>\n",
              "    <tr>\n",
              "      <th>2020-01-02</th>\n",
              "      <td>14.351929</td>\n",
              "      <td>33.072002</td>\n",
              "      <td>36.495586</td>\n",
              "      <td>30.542723</td>\n",
              "      <td>29.698208</td>\n",
              "      <td>49.901928</td>\n",
              "      <td>118573.0</td>\n",
              "    </tr>\n",
              "    <tr>\n",
              "      <th>2020-01-03</th>\n",
              "      <td>13.938331</td>\n",
              "      <td>33.087223</td>\n",
              "      <td>36.111732</td>\n",
              "      <td>29.788467</td>\n",
              "      <td>29.456367</td>\n",
              "      <td>49.534527</td>\n",
              "      <td>117707.0</td>\n",
              "    </tr>\n",
              "    <tr>\n",
              "      <th>2020-01-06</th>\n",
              "      <td>13.804705</td>\n",
              "      <td>32.496223</td>\n",
              "      <td>35.574322</td>\n",
              "      <td>30.756895</td>\n",
              "      <td>29.804619</td>\n",
              "      <td>49.240608</td>\n",
              "      <td>116878.0</td>\n",
              "    </tr>\n",
              "    <tr>\n",
              "      <th>2020-01-07</th>\n",
              "      <td>14.250122</td>\n",
              "      <td>31.931686</td>\n",
              "      <td>34.749016</td>\n",
              "      <td>30.337868</td>\n",
              "      <td>29.688534</td>\n",
              "      <td>49.598820</td>\n",
              "      <td>116662.0</td>\n",
              "    </tr>\n",
              "    <tr>\n",
              "      <th>2020-01-08</th>\n",
              "      <td>14.211944</td>\n",
              "      <td>31.437706</td>\n",
              "      <td>34.182827</td>\n",
              "      <td>29.844337</td>\n",
              "      <td>29.504732</td>\n",
              "      <td>49.608006</td>\n",
              "      <td>116247.0</td>\n",
              "    </tr>\n",
              "    <tr>\n",
              "      <th>...</th>\n",
              "      <td>...</td>\n",
              "      <td>...</td>\n",
              "      <td>...</td>\n",
              "      <td>...</td>\n",
              "      <td>...</td>\n",
              "      <td>...</td>\n",
              "      <td>...</td>\n",
              "    </tr>\n",
              "    <tr>\n",
              "      <th>2021-05-28</th>\n",
              "      <td>17.480000</td>\n",
              "      <td>26.521406</td>\n",
              "      <td>29.614954</td>\n",
              "      <td>26.709999</td>\n",
              "      <td>26.990000</td>\n",
              "      <td>111.589996</td>\n",
              "      <td>125561.0</td>\n",
              "    </tr>\n",
              "    <tr>\n",
              "      <th>2021-05-31</th>\n",
              "      <td>17.540001</td>\n",
              "      <td>26.461447</td>\n",
              "      <td>29.525002</td>\n",
              "      <td>26.650000</td>\n",
              "      <td>26.870001</td>\n",
              "      <td>114.779999</td>\n",
              "      <td>126216.0</td>\n",
              "    </tr>\n",
              "    <tr>\n",
              "      <th>2021-06-01</th>\n",
              "      <td>17.700001</td>\n",
              "      <td>27.061026</td>\n",
              "      <td>30.600000</td>\n",
              "      <td>27.230000</td>\n",
              "      <td>27.290001</td>\n",
              "      <td>113.199997</td>\n",
              "      <td>128267.0</td>\n",
              "    </tr>\n",
              "    <tr>\n",
              "      <th>2021-06-02</th>\n",
              "      <td>17.010000</td>\n",
              "      <td>28.120001</td>\n",
              "      <td>31.620001</td>\n",
              "      <td>28.580000</td>\n",
              "      <td>27.870001</td>\n",
              "      <td>114.800003</td>\n",
              "      <td>129601.0</td>\n",
              "    </tr>\n",
              "    <tr>\n",
              "      <th>2021-06-04</th>\n",
              "      <td>17.240000</td>\n",
              "      <td>28.090000</td>\n",
              "      <td>32.279999</td>\n",
              "      <td>28.930000</td>\n",
              "      <td>28.500000</td>\n",
              "      <td>112.900002</td>\n",
              "      <td>130126.0</td>\n",
              "    </tr>\n",
              "  </tbody>\n",
              "</table>\n",
              "<p>350 rows × 7 columns</p>\n",
              "</div>"
            ],
            "text/plain": [
              "             B3SA3.SA   BBDC4.SA   ITUB4.SA   PETR3.SA   PETR4.SA    VALE3.SA  \\\n",
              "Date                                                                            \n",
              "2020-01-02  14.351929  33.072002  36.495586  30.542723  29.698208   49.901928   \n",
              "2020-01-03  13.938331  33.087223  36.111732  29.788467  29.456367   49.534527   \n",
              "2020-01-06  13.804705  32.496223  35.574322  30.756895  29.804619   49.240608   \n",
              "2020-01-07  14.250122  31.931686  34.749016  30.337868  29.688534   49.598820   \n",
              "2020-01-08  14.211944  31.437706  34.182827  29.844337  29.504732   49.608006   \n",
              "...               ...        ...        ...        ...        ...         ...   \n",
              "2021-05-28  17.480000  26.521406  29.614954  26.709999  26.990000  111.589996   \n",
              "2021-05-31  17.540001  26.461447  29.525002  26.650000  26.870001  114.779999   \n",
              "2021-06-01  17.700001  27.061026  30.600000  27.230000  27.290001  113.199997   \n",
              "2021-06-02  17.010000  28.120001  31.620001  28.580000  27.870001  114.800003   \n",
              "2021-06-04  17.240000  28.090000  32.279999  28.930000  28.500000  112.900002   \n",
              "\n",
              "               ^BVSP  \n",
              "Date                  \n",
              "2020-01-02  118573.0  \n",
              "2020-01-03  117707.0  \n",
              "2020-01-06  116878.0  \n",
              "2020-01-07  116662.0  \n",
              "2020-01-08  116247.0  \n",
              "...              ...  \n",
              "2021-05-28  125561.0  \n",
              "2021-05-31  126216.0  \n",
              "2021-06-01  128267.0  \n",
              "2021-06-02  129601.0  \n",
              "2021-06-04  130126.0  \n",
              "\n",
              "[350 rows x 7 columns]"
            ]
          },
          "metadata": {
            "tags": []
          },
          "execution_count": 14
        }
      ]
    },
    {
      "cell_type": "code",
      "metadata": {
        "id": "498O_od4uCeK",
        "outputId": "2f5e0cdf-e41b-452f-c1f7-694ffc0283a1"
      },
      "source": [
        "for i in dataset.columns:\n",
        "    print('Ativos: ',i,' = ',dataset[i][-4:-3].values)"
      ],
      "execution_count": null,
      "outputs": [
        {
          "output_type": "stream",
          "text": [
            "Ativos:  ABEV3.SA  =  [17.95000076]\n",
            "Ativos:  ASAI3.SA  =  [89.44999695]\n",
            "Ativos:  AZUL4.SA  =  [43.]\n",
            "Ativos:  BTOW3.SA  =  [59.75]\n",
            "Ativos:  B3SA3.SA  =  [17.54000092]\n",
            "Ativos:  BIDI11.SA  =  [68.33000183]\n",
            "Ativos:  BBSE3.SA  =  [23.39999962]\n",
            "Ativos:  BRML3.SA  =  [11.18000031]\n",
            "Ativos:  BBDC3.SA  =  [22.84305573]\n",
            "Ativos:  BBDC4.SA  =  [26.46144676]\n",
            "Ativos:  BRAP4.SA  =  [71.20999908]\n",
            "Ativos:  BBAS3.SA  =  [33.49000168]\n",
            "Ativos:  BRKM5.SA  =  [50.06999969]\n",
            "Ativos:  BRFS3.SA  =  [25.76000023]\n",
            "Ativos:  BPAC11.SA  =  [124.05000305]\n",
            "Ativos:  CRFB3.SA  =  [22.39999962]\n",
            "Ativos:  CCRO3.SA  =  [13.77999973]\n",
            "Ativos:  CMIG4.SA  =  [13.57999992]\n",
            "Ativos:  HGTX3.SA  =  [32.90000153]\n",
            "Ativos:  CIEL3.SA  =  [4.21000004]\n",
            "Ativos:  COGN3.SA  =  [4.21999979]\n",
            "Ativos:  CPLE6.SA  =  [6.38000011]\n",
            "Ativos:  CSAN3.SA  =  [23.37000084]\n",
            "Ativos:  CPFE3.SA  =  [28.70999908]\n",
            "Ativos:  CVCB3.SA  =  [24.88999939]\n",
            "Ativos:  CYRE3.SA  =  [23.89999962]\n",
            "Ativos:  ECOR3.SA  =  [12.48999977]\n",
            "Ativos:  ELET3.SA  =  [43.84000015]\n",
            "Ativos:  ELET6.SA  =  [43.58000183]\n",
            "Ativos:  EMBR3.SA  =  [17.28000069]\n",
            "Ativos:  ENBR3.SA  =  [18.64999962]\n",
            "Ativos:  ENGI11.SA  =  [46.52000046]\n",
            "Ativos:  ENEV3.SA  =  [18.45999908]\n",
            "Ativos:  EGIE3.SA  =  [39.79000092]\n",
            "Ativos:  EQTL3.SA  =  [24.72999954]\n",
            "Ativos:  EZTC3.SA  =  [31.13999939]\n",
            "Ativos:  FLRY3.SA  =  [26.46999931]\n",
            "Ativos:  GGBR4.SA  =  [32.91999817]\n",
            "Ativos:  GOAU4.SA  =  [14.81999969]\n",
            "Ativos:  GOLL4.SA  =  [26.80999947]\n",
            "Ativos:  NTCO3.SA  =  [51.54999924]\n",
            "Ativos:  HAPV3.SA  =  [16.]\n",
            "Ativos:  HYPE3.SA  =  [36.40000153]\n",
            "Ativos:  IGTA3.SA  =  [43.25]\n",
            "Ativos:  GNDI3.SA  =  [88.38999939]\n",
            "Ativos:  IRBR3.SA  =  [5.94000006]\n",
            "Ativos:  ITSA4.SA  =  [10.84000015]\n",
            "Ativos:  ITUB4.SA  =  [29.52500153]\n",
            "Ativos:  JBSS3.SA  =  [30.25]\n",
            "Ativos:  JHSF3.SA  =  [7.61999989]\n",
            "Ativos:  KLBN11.SA  =  [26.35000038]\n",
            "Ativos:  RENT3.SA  =  [62.65000153]\n",
            "Ativos:  LCAM3.SA  =  [27.01000023]\n",
            "Ativos:  LWSA3.SA  =  [26.15999985]\n",
            "Ativos:  LAME4.SA  =  [19.88999939]\n",
            "Ativos:  LREN3.SA  =  [46.79999924]\n",
            "Ativos:  MGLU3.SA  =  [20.15999985]\n",
            "Ativos:  MRFG3.SA  =  [18.37000084]\n",
            "Ativos:  BEEF3.SA  =  [9.90999985]\n",
            "Ativos:  MRVE3.SA  =  [17.38999939]\n",
            "Ativos:  MULT3.SA  =  [25.65999985]\n",
            "Ativos:  PCAR3.SA  =  [39.43000031]\n",
            "Ativos:  PETR3.SA  =  [26.64999962]\n",
            "Ativos:  PETR4.SA  =  [26.87000084]\n",
            "Ativos:  BRDT3.SA  =  [25.79999924]\n",
            "Ativos:  PRIO3.SA  =  [19.72999954]\n",
            "Ativos:  QUAL3.SA  =  [29.21999931]\n",
            "Ativos:  RADL3.SA  =  [28.18000031]\n",
            "Ativos:  RAIL3.SA  =  [20.67000008]\n",
            "Ativos:  SBSP3.SA  =  [39.13000107]\n",
            "Ativos:  SANB11.SA  =  [41.20999908]\n",
            "Ativos:  CSNA3.SA  =  [44.91999817]\n",
            "Ativos:  SULA11.SA  =  [34.70000076]\n",
            "Ativos:  SUZB3.SA  =  [60.72999954]\n",
            "Ativos:  TAEE11.SA  =  [38.74000168]\n",
            "Ativos:  VIVT3.SA  =  [44.20000076]\n",
            "Ativos:  TIMS3.SA  =  [nan]\n",
            "Ativos:  TOTS3.SA  =  [34.47000122]\n",
            "Ativos:  UGPA3.SA  =  [19.29999924]\n",
            "Ativos:  USIM5.SA  =  [19.86000061]\n",
            "Ativos:  VALE3.SA  =  [114.77999878]\n",
            "Ativos:  VVAR3.SA  =  [12.97999954]\n",
            "Ativos:  WEGE3.SA  =  [34.15000153]\n",
            "Ativos:  YDUQ3.SA  =  [32.90000153]\n",
            "Ativos:  ^BVSP  =  [126216.]\n"
          ],
          "name": "stdout"
        }
      ]
    },
    {
      "cell_type": "code",
      "metadata": {
        "id": "3rVngIktuCeL"
      },
      "source": [
        ""
      ],
      "execution_count": null,
      "outputs": []
    }
  ]
}