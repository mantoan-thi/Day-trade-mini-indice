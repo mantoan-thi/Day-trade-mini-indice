{
  "nbformat": 4,
  "nbformat_minor": 0,
  "metadata": {
    "kernelspec": {
      "display_name": "Python 3",
      "language": "python",
      "name": "python3"
    },
    "language_info": {
      "codemirror_mode": {
        "name": "ipython",
        "version": 3
      },
      "file_extension": ".py",
      "mimetype": "text/x-python",
      "name": "python",
      "nbconvert_exporter": "python",
      "pygments_lexer": "ipython3",
      "version": "3.8.5"
    },
    "colab": {
      "name": "Bot_metatrade.ipynb",
      "provenance": [],
      "include_colab_link": true
    }
  },
  "cells": [
    {
      "cell_type": "markdown",
      "metadata": {
        "id": "view-in-github",
        "colab_type": "text"
      },
      "source": [
        "<a href=\"https://colab.research.google.com/github/mantoan-thi/Day_trade_mini_indice/blob/main/Bot_metatrade.ipynb\" target=\"_parent\"><img src=\"https://colab.research.google.com/assets/colab-badge.svg\" alt=\"Open In Colab\"/></a>"
      ]
    },
    {
      "cell_type": "code",
      "metadata": {
        "id": "usIxj0Ayto85"
      },
      "source": [
        "import MetaTrader5 as mt5\n",
        "import pandas as pd\n",
        "import numpy as np\n",
        "from talib.abstract import *\n",
        "import matplotlib.pyplot as plt\n",
        "import datetime, time\n",
        "%matplotlib inline"
      ],
      "execution_count": null,
      "outputs": []
    },
    {
      "cell_type": "code",
      "metadata": {
        "id": "jITioephto87"
      },
      "source": [
        "# estabelecemos a conexão com o terminal MetaTrader 5 para a conta especificada\\n\",\n",
        "if not mt5.initialize(login=3002637411, server=\"Rico-Demo\",password=\"heidegger*\"):\n",
        "    print(\"initialize() failed, error code =\",mt5.last_error())\n",
        "    quit()"
      ],
      "execution_count": null,
      "outputs": []
    },
    {
      "cell_type": "code",
      "metadata": {
        "id": "ASwWqu6lto88",
        "outputId": "4615bac5-bb09-4405-fe30-be7926f52ca2"
      },
      "source": [
        "# obtemos o número de instrumentos financeiros\n",
        "symbols=mt5.symbols_total()\n",
        "if symbols>0:\n",
        "    print(\"Total symbols =\",symbols)\n",
        "else:\n",
        "    print(\"Symbols not found\")"
      ],
      "execution_count": null,
      "outputs": [
        {
          "output_type": "stream",
          "text": [
            "Total symbols = 76095\n"
          ],
          "name": "stdout"
        }
      ]
    },
    {
      "cell_type": "code",
      "metadata": {
        "id": "05LwMI9Rto8-"
      },
      "source": [
        "def balance():\n",
        "    account_info_dict = mt5.account_info()._asdict()\n",
        "    df=pd.DataFrame(list(account_info_dict.items()),columns=['property','value'])\n",
        "    balance = df['value'][10]\n",
        "    return balance"
      ],
      "execution_count": null,
      "outputs": []
    },
    {
      "cell_type": "code",
      "metadata": {
        "id": "SQAXAOVfto8-",
        "outputId": "c7d7672c-f662-46e0-dfe2-3f40dd89825e"
      },
      "source": [
        "# obtemos todos os símbolos\n",
        "lista = []\n",
        "count = 0\n",
        "dados = pd.DataFrame()\n",
        "symbols=mt5.symbols_get()\n",
        "for s in symbols:\n",
        "    count+=1\n",
        "    print('Ativos analisados:',count,end='\\r')\n",
        "    dados = mt5.copy_rates_from_pos(s.name, mt5.TIMEFRAME_D1, 0, 50)\n",
        "    dados = pd.DataFrame(dados)\n",
        "    if len(dados) > 40:\n",
        "        dados['RSI'] = RSI(dados.close, timeperiod=14)\n",
        "        dados['M14d'] = SMA(dados.RSI,timeperiod=7)\n",
        "        Rsi_Maior = dados['M14d'].iloc[-1:].values\n",
        "        if pd.isna(Rsi_Maior)==False:\n",
        "            lista.append((s.name,Rsi_Maior[0]))\n",
        "    if count > 10000:\n",
        "        break"
      ],
      "execution_count": null,
      "outputs": [
        {
          "output_type": "stream",
          "text": [
            "Ativos analisados: 1000142 271 344 474 552 606 688 698 708 785 791 843 846 872 917 1042 1103 1112 1116 1120 1136 1178 1187 1196 1215 1271 1282 1370 1387 1414 1453 1475 1486 1508 1515 1517 1544 1566 1611 1631 1682 1708 1719 1726 1755 1775 1853 1938 1963 1966 1994 2013 2028 2040 2053 2055 2059 2095 2137 2151 2158 2166 2192 2204 2213 2221 2227 2231 2239 2268 2271 2288 2296 2303 2328 2337 2346 2360 2367 2404 2451 2461 2486 2491 2517 2521 2532 2540 2543 2551 2563 2584 2604 2621 2672 2681 2708 2712 2732 2757 2794 2801 2819 2865 2869 2871 2893 2900 2921 2931 2973 2975 2980 2991 2997 3006 3033 3047 3067 3069 3074 3196 3219 3226 3236 3260 3283 3293 3312 3320 3325 3361 3436 3440 3486 3498 3513 3516 3550 3553 3568 3572 3640 3717 3724 3747 3762 3778 3846 3862 3870 3873 3904 3914 3941 3954 3958 3988 4004 4033 4038 4095 4099 4147 4177 4241 4307 4345 4388 4399 4414 4462 4467 4504 4576 4595 4610 4652 4661 4687 4691 46934735 4833 4852 4918 5002 5059 5065 5067 5072 5103 5135 5148 5158 5188 5199 5204 5233 5238 5240 5285 5299 5303 5319 5321 5343 5347 5360 5389 5392 5427 5459 5521 5528 5551 5555 5557 5569 5618 5629 5653 5690 5708 5780 5799 5816 59065908 5938 59575977 5994 6002 6103 6139 6159 61846186 6250 6274 6335 6352 6367 6409 64976513 65446551 6634 6644 6699 6715 6721 6746 6776 6786 6898 6907 7062 7074 7113 7129 7144 7160 7162 71657177 7323 7345 7376 7444 7527 7628 7640 7698 7704 7729 7825 7842 7850 7868 7871 7881 7883 7981 80358062 8079 8102 8253 8313 8421 8458 8508 8545 8603 8687 874288368928 9028 9239 9376 9472 9603 9749 9909\r"
          ],
          "name": "stdout"
        }
      ]
    },
    {
      "cell_type": "code",
      "metadata": {
        "id": "pNwTx4UGto8_",
        "outputId": "bca119f7-b344-49ca-e5f6-521d52af8bf2"
      },
      "source": [
        "lista = pd.DataFrame(lista)\n",
        "lista.rename(columns={0: 'Ativo',1:'RSI'}, inplace = True)\n",
        "lista.sort_values(by=['RSI'],ascending=False,).head(10)"
      ],
      "execution_count": null,
      "outputs": [
        {
          "output_type": "execute_result",
          "data": {
            "text/html": [
              "<div>\n",
              "<style scoped>\n",
              "    .dataframe tbody tr th:only-of-type {\n",
              "        vertical-align: middle;\n",
              "    }\n",
              "\n",
              "    .dataframe tbody tr th {\n",
              "        vertical-align: top;\n",
              "    }\n",
              "\n",
              "    .dataframe thead th {\n",
              "        text-align: right;\n",
              "    }\n",
              "</style>\n",
              "<table border=\"1\" class=\"dataframe\">\n",
              "  <thead>\n",
              "    <tr style=\"text-align: right;\">\n",
              "      <th></th>\n",
              "      <th>Ativo</th>\n",
              "      <th>RSI</th>\n",
              "    </tr>\n",
              "  </thead>\n",
              "  <tbody>\n",
              "    <tr>\n",
              "      <th>274</th>\n",
              "      <td>VALEK30</td>\n",
              "      <td>96.312495</td>\n",
              "    </tr>\n",
              "    <tr>\n",
              "      <th>290</th>\n",
              "      <td>VALEL2</td>\n",
              "      <td>94.701421</td>\n",
              "    </tr>\n",
              "    <tr>\n",
              "      <th>268</th>\n",
              "      <td>VALEF550</td>\n",
              "      <td>89.375330</td>\n",
              "    </tr>\n",
              "    <tr>\n",
              "      <th>534</th>\n",
              "      <td>FHER3</td>\n",
              "      <td>84.283318</td>\n",
              "    </tr>\n",
              "    <tr>\n",
              "      <th>5</th>\n",
              "      <td>BBASG24</td>\n",
              "      <td>83.818300</td>\n",
              "    </tr>\n",
              "    <tr>\n",
              "      <th>178</th>\n",
              "      <td>PETRM19</td>\n",
              "      <td>81.990155</td>\n",
              "    </tr>\n",
              "    <tr>\n",
              "      <th>266</th>\n",
              "      <td>VALEF510</td>\n",
              "      <td>81.922840</td>\n",
              "    </tr>\n",
              "    <tr>\n",
              "      <th>648</th>\n",
              "      <td>MOAR3</td>\n",
              "      <td>81.803486</td>\n",
              "    </tr>\n",
              "    <tr>\n",
              "      <th>640</th>\n",
              "      <td>MGEL4</td>\n",
              "      <td>81.747570</td>\n",
              "    </tr>\n",
              "    <tr>\n",
              "      <th>710</th>\n",
              "      <td>RANI3</td>\n",
              "      <td>81.252005</td>\n",
              "    </tr>\n",
              "  </tbody>\n",
              "</table>\n",
              "</div>"
            ],
            "text/plain": [
              "        Ativo        RSI\n",
              "274   VALEK30  96.312495\n",
              "290    VALEL2  94.701421\n",
              "268  VALEF550  89.375330\n",
              "534     FHER3  84.283318\n",
              "5     BBASG24  83.818300\n",
              "178   PETRM19  81.990155\n",
              "266  VALEF510  81.922840\n",
              "648     MOAR3  81.803486\n",
              "640     MGEL4  81.747570\n",
              "710     RANI3  81.252005"
            ]
          },
          "metadata": {
            "tags": []
          },
          "execution_count": 36
        }
      ]
    },
    {
      "cell_type": "code",
      "metadata": {
        "id": "faACq7vDto9A"
      },
      "source": [
        "dados = []\n",
        "for sm in symbols:\n",
        "    sm.name\n",
        "    dados.append((sm.name,sm.basis,sm.currency_base,sm.option_strike,sm.isin))"
      ],
      "execution_count": null,
      "outputs": []
    },
    {
      "cell_type": "code",
      "metadata": {
        "id": "tRE8EiKnto9A",
        "outputId": "fc8d996a-8b05-4c3e-c767-38fcca06707d"
      },
      "source": [
        "dados = pd.DataFrame(dados)\n",
        "dados.head(10)"
      ],
      "execution_count": null,
      "outputs": [
        {
          "output_type": "execute_result",
          "data": {
            "text/html": [
              "<div>\n",
              "<style scoped>\n",
              "    .dataframe tbody tr th:only-of-type {\n",
              "        vertical-align: middle;\n",
              "    }\n",
              "\n",
              "    .dataframe tbody tr th {\n",
              "        vertical-align: top;\n",
              "    }\n",
              "\n",
              "    .dataframe thead th {\n",
              "        text-align: right;\n",
              "    }\n",
              "</style>\n",
              "<table border=\"1\" class=\"dataframe\">\n",
              "  <thead>\n",
              "    <tr style=\"text-align: right;\">\n",
              "      <th></th>\n",
              "      <th>0</th>\n",
              "      <th>1</th>\n",
              "      <th>2</th>\n",
              "      <th>3</th>\n",
              "      <th>4</th>\n",
              "    </tr>\n",
              "  </thead>\n",
              "  <tbody>\n",
              "    <tr>\n",
              "      <th>0</th>\n",
              "      <td>ABEVA207</td>\n",
              "      <td>ABEV3</td>\n",
              "      <td>BRL</td>\n",
              "      <td>20.25</td>\n",
              "      <td>BRABEV3A0577</td>\n",
              "    </tr>\n",
              "    <tr>\n",
              "      <th>1</th>\n",
              "      <td>ABEVA212</td>\n",
              "      <td>ABEV3</td>\n",
              "      <td>BRL</td>\n",
              "      <td>20.75</td>\n",
              "      <td>BRABEV3A0585</td>\n",
              "    </tr>\n",
              "    <tr>\n",
              "      <th>2</th>\n",
              "      <td>ABEVA216</td>\n",
              "      <td>ABEV3</td>\n",
              "      <td>BRL</td>\n",
              "      <td>21.25</td>\n",
              "      <td>BRABEV3A05B7</td>\n",
              "    </tr>\n",
              "    <tr>\n",
              "      <th>3</th>\n",
              "      <td>ABEVA219</td>\n",
              "      <td>ABEV3</td>\n",
              "      <td>BRL</td>\n",
              "      <td>21.50</td>\n",
              "      <td>BRABEV3A05A9</td>\n",
              "    </tr>\n",
              "    <tr>\n",
              "      <th>4</th>\n",
              "      <td>ABEVA221</td>\n",
              "      <td>ABEV3</td>\n",
              "      <td>BRL</td>\n",
              "      <td>21.75</td>\n",
              "      <td>BRABEV3A0593</td>\n",
              "    </tr>\n",
              "    <tr>\n",
              "      <th>5</th>\n",
              "      <td>ABEVB200</td>\n",
              "      <td>ABEV3</td>\n",
              "      <td>BRL</td>\n",
              "      <td>19.50</td>\n",
              "      <td>BRABEV3B0568</td>\n",
              "    </tr>\n",
              "    <tr>\n",
              "      <th>6</th>\n",
              "      <td>ABEVB215</td>\n",
              "      <td>ABEV3</td>\n",
              "      <td>BRL</td>\n",
              "      <td>21.00</td>\n",
              "      <td>BRABEV3B0550</td>\n",
              "    </tr>\n",
              "    <tr>\n",
              "      <th>7</th>\n",
              "      <td>ABEVB247</td>\n",
              "      <td>ABEV3</td>\n",
              "      <td>BRL</td>\n",
              "      <td>24.25</td>\n",
              "      <td>BRABEV3B0543</td>\n",
              "    </tr>\n",
              "    <tr>\n",
              "      <th>8</th>\n",
              "      <td>ABEVC196</td>\n",
              "      <td>ABEV3</td>\n",
              "      <td>BRL</td>\n",
              "      <td>19.25</td>\n",
              "      <td>BRABEV3C0526</td>\n",
              "    </tr>\n",
              "    <tr>\n",
              "      <th>9</th>\n",
              "      <td>ABEVC222</td>\n",
              "      <td>ABEV3</td>\n",
              "      <td>BRL</td>\n",
              "      <td>21.75</td>\n",
              "      <td>BRABEV3C04Y8</td>\n",
              "    </tr>\n",
              "  </tbody>\n",
              "</table>\n",
              "</div>"
            ],
            "text/plain": [
              "          0      1    2      3             4\n",
              "0  ABEVA207  ABEV3  BRL  20.25  BRABEV3A0577\n",
              "1  ABEVA212  ABEV3  BRL  20.75  BRABEV3A0585\n",
              "2  ABEVA216  ABEV3  BRL  21.25  BRABEV3A05B7\n",
              "3  ABEVA219  ABEV3  BRL  21.50  BRABEV3A05A9\n",
              "4  ABEVA221  ABEV3  BRL  21.75  BRABEV3A0593\n",
              "5  ABEVB200  ABEV3  BRL  19.50  BRABEV3B0568\n",
              "6  ABEVB215  ABEV3  BRL  21.00  BRABEV3B0550\n",
              "7  ABEVB247  ABEV3  BRL  24.25  BRABEV3B0543\n",
              "8  ABEVC196  ABEV3  BRL  19.25  BRABEV3C0526\n",
              "9  ABEVC222  ABEV3  BRL  21.75  BRABEV3C04Y8"
            ]
          },
          "metadata": {
            "tags": []
          },
          "execution_count": 87
        }
      ]
    },
    {
      "cell_type": "code",
      "metadata": {
        "id": "aQcQN-Qkto9B",
        "outputId": "c6694fa9-25f4-45bb-aeba-4b5612bae812"
      },
      "source": [
        "symbols[77751]"
      ],
      "execution_count": null,
      "outputs": [
        {
          "output_type": "execute_result",
          "data": {
            "text/plain": [
              "SymbolInfo(custom=False, chart_mode=1, select=False, visible=False, session_deals=0, session_buy_orders=0, session_sell_orders=0, volume=0, volumehigh=0, volumelow=0, time=0, digits=2, spread=0, spread_float=True, ticks_bookdepth=32, trade_calc_mode=35, trade_mode=4, start_time=0, expiration_time=1637355599, trade_stops_level=0, trade_freeze_level=0, trade_exemode=3, swap_mode=0, swap_rollover3days=3, margin_hedged_use_leg=False, expiration_mode=11, filling_mode=3, order_mode=127, order_gtc_mode=0, option_mode=0, option_right=1, bid=0.0, bidhigh=0.0, bidlow=0.0, ask=0.0, askhigh=0.0, asklow=0.0, last=0.0, lasthigh=0.0, lastlow=0.0, volume_real=0.0, volumehigh_real=0.0, volumelow_real=0.0, option_strike=142.0, point=0.01, trade_tick_value=0.01, trade_tick_value_profit=0.01, trade_tick_value_loss=0.01, trade_tick_size=0.01, trade_contract_size=1.0, trade_accrued_interest=0.0, trade_face_value=0.0, trade_liquidity_rate=0.0, volume_min=100.0, volume_max=52844748.0, volume_step=100.0, volume_limit=0.0, swap_long=0.0, swap_short=0.0, margin_initial=0.0, margin_maintenance=0.0, session_volume=0.0, session_turnover=0.0, session_interest=0.0, session_buy_orders_volume=0.0, session_sell_orders_volume=0.0, session_open=0.0, session_close=0.0, session_aw=0.0, session_price_settlement=0.0, session_price_limit_min=0.0, session_price_limit_max=0.0, margin_hedged=0.0, price_change=0.0, price_volatility=0.0, price_theoretical=0.0, price_greeks_delta=0.0, price_greeks_theta=0.0, price_greeks_gamma=0.0, price_greeks_vega=0.0, price_greeks_rho=0.0, price_greeks_omega=0.0, price_sensitivity=0.0, basis='VALE3', category='', currency_base='BRL', currency_profit='BRL', currency_margin='BRL', bank='', description='VALEE       ON  142,00', exchange='', formula='', isin='BRVALE3W0D08', name='VALEW142', page='', path='BOVESPA\\\\OPCOES\\\\VALEW142')"
            ]
          },
          "metadata": {
            "tags": []
          },
          "execution_count": 78
        }
      ]
    },
    {
      "cell_type": "code",
      "metadata": {
        "id": "WCr0-_sOto9B"
      },
      "source": [
        ""
      ],
      "execution_count": null,
      "outputs": []
    },
    {
      "cell_type": "code",
      "metadata": {
        "id": "qwsP-Vjoto9C",
        "outputId": "5f615bad-e786-4226-8a31-3fe3aafb14a5"
      },
      "source": [
        "print('Ações para compra: ')\n",
        "print(lista[lista['RSI']>70].sort_values(by=['RSI'],ascending=False,).head(10))\n",
        "print('\\nAções para venda: ')\n",
        "print(lista[lista['RSI']<30].sort_values(by=['RSI'],ascending=False,).head(10))"
      ],
      "execution_count": null,
      "outputs": [
        {
          "output_type": "stream",
          "text": [
            "Ações para compra: \n",
            "        Ativo        RSI\n",
            "274   VALEK30  96.312495\n",
            "290    VALEL2  94.701421\n",
            "268  VALEF550  89.375330\n",
            "534     FHER3  84.283318\n",
            "5     BBASG24  83.818300\n",
            "178   PETRM19  81.990155\n",
            "266  VALEF510  81.922840\n",
            "648     MOAR3  81.803486\n",
            "640     MGEL4  81.747570\n",
            "710     RANI3  81.252005\n",
            "\n",
            "Ações para venda: \n",
            "        Ativo        RSI\n",
            "35   BBASX319  29.919342\n",
            "7    BBASI352  29.915875\n",
            "308  VALEW468  29.888266\n",
            "457     CPLE3  29.753657\n",
            "139  PETRI247  29.651971\n",
            "140  PETRI274  29.466671\n",
            "621     LIGT3  29.324384\n",
            "192  PETRS157  29.038738\n",
            "8    BBASI381  29.020040\n",
            "200   PETRS20  28.932099\n"
          ],
          "name": "stdout"
        }
      ]
    },
    {
      "cell_type": "code",
      "metadata": {
        "id": "dGIlk_Kcto9C"
      },
      "source": [
        "def pegar_dados():\n",
        "    # solicitamos 10 barras de GBPUSD D1 do dia atual\n",
        "    par = \"ITUB3\"\n",
        "    rates = mt5.copy_rates_from_pos(par, mt5.TIMEFRAME_M5, 0, 2000)\n",
        "    dados = pd.DataFrame(rates)\n",
        "    # convertemos o tempo em segundos no formato datetime\n",
        "    #dados['time']=pd.to_datetime(dados['time'], unit='s')\n",
        "    #dados['Tag']= (dados.close.shift(-1)-dados.open.shift(-1))+(dados.close.shift(-2)-dados.open.shift(-2))\n",
        "    #dados['var']= dados['close']/dados['close'].shift(2)-1 \n",
        "    #dados['Media'] = SMA(dados['var'].shift(1), timeperiod=8)\n",
        "    dados.to_csv('C:/Users/Thiago/Desktop/arquivos/Dataset/EURUSD_M5.csv')\n",
        "    return dados\n",
        "    "
      ],
      "execution_count": null,
      "outputs": []
    },
    {
      "cell_type": "code",
      "metadata": {
        "id": "FD-4AV0qto9D"
      },
      "source": [
        "li"
      ],
      "execution_count": null,
      "outputs": []
    },
    {
      "cell_type": "code",
      "metadata": {
        "id": "RkRn2YjDto9D",
        "outputId": "4e024557-61fa-4ae0-9bc2-b932bef0bf3c"
      },
      "source": [
        "pegar_dados()"
      ],
      "execution_count": null,
      "outputs": [
        {
          "output_type": "execute_result",
          "data": {
            "text/html": [
              "<div>\n",
              "<style scoped>\n",
              "    .dataframe tbody tr th:only-of-type {\n",
              "        vertical-align: middle;\n",
              "    }\n",
              "\n",
              "    .dataframe tbody tr th {\n",
              "        vertical-align: top;\n",
              "    }\n",
              "\n",
              "    .dataframe thead th {\n",
              "        text-align: right;\n",
              "    }\n",
              "</style>\n",
              "<table border=\"1\" class=\"dataframe\">\n",
              "  <thead>\n",
              "    <tr style=\"text-align: right;\">\n",
              "      <th></th>\n",
              "      <th>time</th>\n",
              "      <th>open</th>\n",
              "      <th>high</th>\n",
              "      <th>low</th>\n",
              "      <th>close</th>\n",
              "      <th>tick_volume</th>\n",
              "      <th>spread</th>\n",
              "      <th>real_volume</th>\n",
              "    </tr>\n",
              "  </thead>\n",
              "  <tbody>\n",
              "    <tr>\n",
              "      <th>0</th>\n",
              "      <td>1617878400</td>\n",
              "      <td>24.11</td>\n",
              "      <td>24.14</td>\n",
              "      <td>24.08</td>\n",
              "      <td>24.11</td>\n",
              "      <td>15</td>\n",
              "      <td>1</td>\n",
              "      <td>4800</td>\n",
              "    </tr>\n",
              "    <tr>\n",
              "      <th>1</th>\n",
              "      <td>1617878700</td>\n",
              "      <td>24.09</td>\n",
              "      <td>24.11</td>\n",
              "      <td>24.08</td>\n",
              "      <td>24.10</td>\n",
              "      <td>24</td>\n",
              "      <td>1</td>\n",
              "      <td>4700</td>\n",
              "    </tr>\n",
              "    <tr>\n",
              "      <th>2</th>\n",
              "      <td>1617879000</td>\n",
              "      <td>24.10</td>\n",
              "      <td>24.16</td>\n",
              "      <td>24.09</td>\n",
              "      <td>24.16</td>\n",
              "      <td>14</td>\n",
              "      <td>1</td>\n",
              "      <td>3100</td>\n",
              "    </tr>\n",
              "    <tr>\n",
              "      <th>3</th>\n",
              "      <td>1617879300</td>\n",
              "      <td>24.16</td>\n",
              "      <td>24.17</td>\n",
              "      <td>24.14</td>\n",
              "      <td>24.17</td>\n",
              "      <td>8</td>\n",
              "      <td>1</td>\n",
              "      <td>2500</td>\n",
              "    </tr>\n",
              "    <tr>\n",
              "      <th>4</th>\n",
              "      <td>1617879600</td>\n",
              "      <td>24.17</td>\n",
              "      <td>24.17</td>\n",
              "      <td>24.12</td>\n",
              "      <td>24.12</td>\n",
              "      <td>10</td>\n",
              "      <td>1</td>\n",
              "      <td>4500</td>\n",
              "    </tr>\n",
              "    <tr>\n",
              "      <th>...</th>\n",
              "      <td>...</td>\n",
              "      <td>...</td>\n",
              "      <td>...</td>\n",
              "      <td>...</td>\n",
              "      <td>...</td>\n",
              "      <td>...</td>\n",
              "      <td>...</td>\n",
              "      <td>...</td>\n",
              "    </tr>\n",
              "    <tr>\n",
              "      <th>1995</th>\n",
              "      <td>1620837300</td>\n",
              "      <td>24.36</td>\n",
              "      <td>24.39</td>\n",
              "      <td>24.34</td>\n",
              "      <td>24.39</td>\n",
              "      <td>16</td>\n",
              "      <td>1</td>\n",
              "      <td>4000</td>\n",
              "    </tr>\n",
              "    <tr>\n",
              "      <th>1996</th>\n",
              "      <td>1620837600</td>\n",
              "      <td>24.40</td>\n",
              "      <td>24.40</td>\n",
              "      <td>24.35</td>\n",
              "      <td>24.37</td>\n",
              "      <td>21</td>\n",
              "      <td>1</td>\n",
              "      <td>3300</td>\n",
              "    </tr>\n",
              "    <tr>\n",
              "      <th>1997</th>\n",
              "      <td>1620837900</td>\n",
              "      <td>24.38</td>\n",
              "      <td>24.43</td>\n",
              "      <td>24.38</td>\n",
              "      <td>24.43</td>\n",
              "      <td>19</td>\n",
              "      <td>1</td>\n",
              "      <td>4400</td>\n",
              "    </tr>\n",
              "    <tr>\n",
              "      <th>1998</th>\n",
              "      <td>1620838200</td>\n",
              "      <td>24.42</td>\n",
              "      <td>24.44</td>\n",
              "      <td>24.40</td>\n",
              "      <td>24.41</td>\n",
              "      <td>24</td>\n",
              "      <td>1</td>\n",
              "      <td>5600</td>\n",
              "    </tr>\n",
              "    <tr>\n",
              "      <th>1999</th>\n",
              "      <td>1620839400</td>\n",
              "      <td>24.44</td>\n",
              "      <td>24.44</td>\n",
              "      <td>24.44</td>\n",
              "      <td>24.44</td>\n",
              "      <td>3</td>\n",
              "      <td>3</td>\n",
              "      <td>37700</td>\n",
              "    </tr>\n",
              "  </tbody>\n",
              "</table>\n",
              "<p>2000 rows × 8 columns</p>\n",
              "</div>"
            ],
            "text/plain": [
              "            time   open   high    low  close  tick_volume  spread  real_volume\n",
              "0     1617878400  24.11  24.14  24.08  24.11           15       1         4800\n",
              "1     1617878700  24.09  24.11  24.08  24.10           24       1         4700\n",
              "2     1617879000  24.10  24.16  24.09  24.16           14       1         3100\n",
              "3     1617879300  24.16  24.17  24.14  24.17            8       1         2500\n",
              "4     1617879600  24.17  24.17  24.12  24.12           10       1         4500\n",
              "...          ...    ...    ...    ...    ...          ...     ...          ...\n",
              "1995  1620837300  24.36  24.39  24.34  24.39           16       1         4000\n",
              "1996  1620837600  24.40  24.40  24.35  24.37           21       1         3300\n",
              "1997  1620837900  24.38  24.43  24.38  24.43           19       1         4400\n",
              "1998  1620838200  24.42  24.44  24.40  24.41           24       1         5600\n",
              "1999  1620839400  24.44  24.44  24.44  24.44            3       3        37700\n",
              "\n",
              "[2000 rows x 8 columns]"
            ]
          },
          "metadata": {
            "tags": []
          },
          "execution_count": 35
        }
      ]
    },
    {
      "cell_type": "code",
      "metadata": {
        "id": "tQIGBpffto9E"
      },
      "source": [
        "def testar(Cp_menor,Cp_maior,Vd_menor,Vd_maior,payout):\n",
        "    \n",
        "        dados = pegar_dados()\n",
        "        entrada = 0.01*1000\n",
        "        ganhos = payout * entrada\n",
        "    \n",
        "        # Compra\n",
        "        dados.loc[(dados['Media']> Cp_menor) & (dados['Media']< Cp_maior), 'Compra'] = 1\n",
        "        # venda\n",
        "        dados.loc[(dados['Media']> Vd_menor) & (dados['Media']< Vd_maior), 'Venda'] = 1\n",
        "    \n",
        "        dados.loc[(dados['Compra'] == 1) & (dados['var'] >= 0),'acerto_compras'] = ganhos\n",
        "        dados.loc[(dados['Compra'] == 1) & (dados['var'] <= 0),'acerto_compras'] = -(entrada)\n",
        "    \n",
        "        dados.loc[(dados['Venda'] == 1) & (dados['var'] <= 0),'acerto_vendas'] = ganhos\n",
        "        dados.loc[(dados['Venda'] == 1) & (dados['var'] >= 0),'acerto_vendas'] = -(entrada)\n",
        "    \n",
        "        dados.loc[(dados['acerto_compras'].isnull()),'acerto_compras'] = 0\n",
        "        dados.loc[(dados['acerto_vendas'].isnull()),'acerto_vendas'] = 0  \n",
        "        dados['Total'] = dados['acerto_compras']+ dados['acerto_vendas']\n",
        "    \n",
        "        dados['acumulado'] = dados['Total'].cumsum()\n",
        "        win = 0\n",
        "        loss = 0\n",
        "        ganhos_compras = 0\n",
        "        perdas_compras = 0\n",
        "    \n",
        "        win1 = 0\n",
        "        loss1 = 0\n",
        "        ganho_vendas = 0\n",
        "        perdas_vendas = 0\n",
        "        for i in dados['acerto_compras']:\n",
        "            if i > 0:\n",
        "                win +=1\n",
        "                ganhos_compras+=i\n",
        "            \n",
        "            if i < 0:\n",
        "                loss +=1\n",
        "                perdas_compras+=i\n",
        "    \n",
        "        for x in dados['acerto_vendas']:\n",
        "            if x > 0:\n",
        "                win1 +=1\n",
        "                ganho_vendas+=x\n",
        "            \n",
        "            if x < 0:\n",
        "                loss1 +=1\n",
        "                perdas_vendas+=x\n",
        "    \n",
        "        win_total = win+win1\n",
        "        loss_total = loss+loss1\n",
        "        ganhos = ganhos_compras+ganho_vendas\n",
        "        perdas = -(perdas_compras+perdas_vendas)\n",
        "        \n",
        "        #Drawdown\n",
        "        vl_max = max(dados['acumulado'])\n",
        "        vl_min = min(dados['acumulado'])\n",
        "        if vl_max == 0 or vl_min == 0:\n",
        "            draw = 0\n",
        "        else:\n",
        "            draw = (vl_max-vl_min)/vl_max\n",
        "        if ganhos > 0 and perdas > 0:\n",
        "            ft = round(ganhos/perdas,2)\n",
        "            if ft > 1.2:\n",
        "                print('\\033[40;1;34m','>>>>>>>>>>>>>>>>>>>>>>>>>> Backtest!! <<<<<<<<<<<<<<<<<<<<<<<<<<<<<<','\\033[0;0m')\n",
        "                print('\\nValor da entrada.: $',entrada)\n",
        "                print('Payout.:','{0:.2f}%'.format(payout),'\\\\n')\n",
        "                \n",
        "                print('Ranger Cp_menor: ',float(Cp_menor))\n",
        "                print('Ranger Cp_maior: ',float(Cp_maior),'\\\\n')\n",
        "                print('Ranger Vd_menor: ',float(Vd_menor))\n",
        "                print('Ranger Vd_maior: ',float(Vd_maior),'\\\\n')\n",
        "    \n",
        "                print('Quantidade de win.:',win_total)\n",
        "                print('Quantidade de loss.:',loss_total)\n",
        "                print('Acertividade: ','{0:.2f}%'.format(win_total/(win_total+loss_total)))\n",
        "    \n",
        "                print('\\nLucro liquido: $',round(ganhos,3))\n",
        "                print('Prejuizo liquido: $',round(perdas,3))\n",
        "                print('Lucro: $',round(ganhos-perdas,3))\n",
        "                print('Lucro médio por operação: $',round(win_total/(win_total+loss_total),2))\n",
        "    \n",
        "                print('\\n% Ganhos: ','{0:.2f}%'.format(win_total/(win_total+loss_total)))\n",
        "                print('Fator de lucro:',round(ganhos/perdas,2))\n",
        "                print('\\nDrawdown: ','{0:.2f}%'.format(draw))\n",
        "                print('\\nRebaixamento: ',vl_min)\n",
        "                print('n/Saldo em conta: ',balance())\n",
        "                plt.plot(dados['acumulado'])\n",
        "                plt.show()\n",
        "                print('\\033[40;1;34m','>>>>>>>>>>>>>>>>>>>>>>>>>> FIM <<<<<<<<<<<<<<<<<<<<<<<<<<<<<<','\\033[0;0m')\n",
        "            #else:\n",
        "                #print(\\Ranger menor: \\,menor)\n",
        "                #print(\\Ranger maior: \\,maior)\n",
        "                #print('\\\\n% Ganhos: ','{0:.2f}%'.format(win_total/(win_total+loss_total)))\n",
        "                #print('Fator de lucro:',round(ganhos/perdas,2))\n",
        "                #print('\\\\nDrawdown: ','{0:.2f}%'.format(draw))\n",
        "                #print('\\\\033[40;1;34m','>>>>>>>>>>>>>>>>>>>>>>>>>> FIM!! <<<<<<<<<<<<<<<<<<<<<<<<<<<<<<','\\\\033[0;0m')\n",
        "        else:\n",
        "            ft = 0\n",
        "        return ft"
      ],
      "execution_count": null,
      "outputs": []
    },
    {
      "cell_type": "code",
      "metadata": {
        "id": "1bZtTO5wto9F"
      },
      "source": [
        "payout = 0.80\n",
        "Cp_menor = 0.0001\n",
        "Cp_maior = 0.0005\n",
        "Vd_menor = -0.0005\n",
        "Vd_maior = -0.0003\n",
        "ft = testar(Cp_menor,Cp_maior,Vd_menor,Vd_maior,payout)"
      ],
      "execution_count": null,
      "outputs": []
    },
    {
      "cell_type": "code",
      "metadata": {
        "id": "ZN14IJZ3to9G"
      },
      "source": [
        "lista=[]\n",
        "for i in range(1,10):\n",
        "    for x in range(i+1,10):\n",
        "        Cp_menor = float(i/100000)\n",
        "        Cp_maior = float(x/100000)\n",
        "        Vd_menor = -float(x/100000)\n",
        "        Vd_maior = -float(i/100000)\n",
        "\n",
        "        ft = testar(Cp_menor,Cp_maior,Vd_menor,Vd_maior,payout)\n",
        "        lista.append([payout,Cp_menor,Cp_maior,Vd_menor,Vd_maior,ft])\n",
        "        lista2 = pd.DataFrame(lista)\n",
        "lista3 = lista2.rename({0: 'Payout',1: 'Cp_menor',2: 'Cp_maior',3: 'Vd_menor',4: 'Vd_maior',5:'Fator_Lucro'},axis=1)  # new method\\n\""
      ],
      "execution_count": null,
      "outputs": []
    },
    {
      "cell_type": "code",
      "metadata": {
        "id": "PT7UrUAGto9G"
      },
      "source": [
        "count =0\n",
        "c = 1.2\n",
        "for b in lista3['Fator_Lucro']:\n",
        "    if b > 1:\n",
        "        if b > c:\n",
        "            c = b\n",
        "            #print('\\\\033[40;1;34m','>>>>>> Fator de lucro!! <<<<<<<','\\\\033[0;0m')\n",
        "            #print('\\\\nMaior fator de lucro.: ',lista3['Fator_Lucro'].loc[count:count].values,'\\\\n'),\n",
        "            #print('Ativo: ',par,'\\\\n')\n",
        "            #print(lista3.loc[count:count],'\\\\n\\\\n')   \n",
        "            #print('\\\\033[40;1;34m','>>>>>> FIM!! <<<<<<<','\\\\033[0;0m\\\\n')\n",
        "            new_count = count\n",
        "    count+=1\n",
        "print(lista3.loc[new_count:new_count],'\\n\\n')"
      ],
      "execution_count": null,
      "outputs": []
    },
    {
      "cell_type": "code",
      "metadata": {
        "id": "pukpV8BKto9H"
      },
      "source": [
        "def melhor_ranger():\n",
        "    count =0\n",
        "    new_count = 0\n",
        "    c = 1.2\n",
        "    for b in lista3['Fator_Lucro']:\n",
        "        if b > 1:\n",
        "            if b > c:\n",
        "                c = b\n",
        "                #print('\\\\033[40;1;34m','>>>>>> Fator de lucro!! <<<<<<<','\\\\033[0;0m')\n",
        "                #print('\\\\nMaior fator de lucro.: ',lista3['Fator_Lucro'].loc[count:count].values,'\\\\n'),\n",
        "                #print('Ativo: ',par,'\\\\n')\n",
        "                #print(lista3.loc[count:count],'\\\\n\\\\n')   \n",
        "                #print('\\\\033[40;1;34m','>>>>>> FIM!! <<<<<<<','\\\\033[0;0m\\\\n')\n",
        "                new_count = count\n",
        "        count+=1\n",
        "    range = lista3.loc[new_count:new_count]\n",
        "    Cp_menor = round(max(range.Cp_menor),4)\n",
        "    Cp_maior = max(range.Cp_menor)\n",
        "    Vd_menor = max(range.Vd_menor)\n",
        "    Vd_maior = max(range.Vd_maior)\n",
        "    #print(lista3.loc[new_count:new_count],'\\\\n\\\\n') \n",
        "    return Cp_menor,Cp_maior,Vd_menor,Vd_maior"
      ],
      "execution_count": null,
      "outputs": []
    },
    {
      "cell_type": "code",
      "metadata": {
        "id": "R5_Bz6SYto9H"
      },
      "source": [
        "def sinal():\n",
        "    while True:\n",
        "        dados = pegar_dados()\n",
        "        Cp_menor,Cp_maior,Vd_menor,Vd_maior = melhor_ranger()\n",
        "        if dados['Media'].iloc[-1] > Cp_menor and dados['Media'].iloc[-1] < Cp_maior:\n",
        "            sinal = 1 # Comprar \n",
        "            break\n",
        "        else:\n",
        "            if dados['Media'].iloc[-1] > Vd_menor and dados['Media'].iloc[-1] < Vd_maior:\n",
        "                sinal = -1 # Comprar \n",
        "                break\n",
        "            else:\n",
        "                print('Ficar fora do mercado!',end='\\r')\n",
        "    return sinal"
      ],
      "execution_count": null,
      "outputs": []
    },
    {
      "cell_type": "code",
      "metadata": {
        "id": "dgqhPiIbto9I"
      },
      "source": [
        "def Validar_ativo(): \n",
        "    symbol_info = mt5.symbol_info(par)\n",
        "    if symbol_info is None:\n",
        "        print(symbol, \"Não encontrato\")\n",
        "        mt5.shutdown()\n",
        "        quit()\n",
        "    else:\n",
        "        return True"
      ],
      "execution_count": null,
      "outputs": []
    },
    {
      "cell_type": "code",
      "metadata": {
        "id": "7grI7n92to9I"
      },
      "source": [
        "def Adicionar_ativo_grafico():\n",
        "    symbol = par\n",
        "    symbol_info = mt5.symbol_info(symbol)\n",
        "    if symbol_info is None:\n",
        "        print(symbol, \"not found, can not call order_check()\")\n",
        "        mt5.shutdown()\n",
        "        quit()\n",
        "#adicionado symbol se nao existir\n",
        "    if not symbol_info.visible:\n",
        "        print('Symbol Não visivel, tentnado adicionar')\n",
        "        if not mt5.symbol_select(symbol,True):\n",
        "            print('symbol_select({{}})failed, exit', symbol)\n",
        "            mt5.shutdown()\n",
        "            quit()\n",
        "    else:\n",
        "        return True"
      ],
      "execution_count": null,
      "outputs": []
    },
    {
      "cell_type": "code",
      "metadata": {
        "id": "VQNpECX7to9J"
      },
      "source": [
        "def breakeven_compra(position_id,lote,pr_inicial,tp_comp,sl_comp):\n",
        "    symbol = par\n",
        "    point = mt5.symbol_info(symbol).point\n",
        "    price = mt5.symbol_info_tick(symbol).ask\n",
        "    tp_comp_rev = price + 100 * point\n",
        "    sl_comp_rev = price - 10 * point\n",
        "    while True:\n",
        "        lot = lote\n",
        "        symbol = par\n",
        "        #dados = pegar_dados()\n",
        "        #pr_atual = dados['close'].iloc[-1]\n",
        "        point = mt5.symbol_info(symbol).point\n",
        "        price = mt5.symbol_info_tick(symbol).ask\n",
        "        var = (price/pr_inicial-1)*1000\n",
        "        tp_comp_rev = price + 100 * point\n",
        "        sl_comp_rev = price - 10 * point\n",
        "        if var > 0.12:\n",
        "            if sl_comp_rev > tp_comp:\n",
        "                tp_comp = tp_comp_rev\n",
        "                sl_comp = sl_comp_rev\n",
        "                # Preparando ordem de compra\n",
        "                desviation = 1\n",
        "                request = {\n",
        "                    \"action\": mt5.TRADE_ACTION_SLTP,\n",
        "                    \"symbol\": symbol,\n",
        "                    \"volume\": lot,\n",
        "                    \"type\": mt5.ORDER_TYPE_BUY,\n",
        "                    \"price\": price,\n",
        "                    \"position\": position_id,\n",
        "                    \"sl\": sl_comp,\n",
        "                    \"tp\": tp_comp,\n",
        "                    \"magic\": 234000,\n",
        "                    \"desviation\": desviation,\n",
        "                    \"comment\": \"prython script open\",\n",
        "                    \"type_time\":mt5.ORDER_TIME_GTC,\n",
        "                    'type_filling':mt5.ORDER_FILLING_RETURN,\n",
        "                }\n",
        "                result = mt5.order_send(request)\n",
        "                if result.retcode != mt5.TRADE_RETCODE_DONE:\n",
        "                    print(\". 2. order_send failed, retcode={}\".format(result.retcode),end='\\r') \n",
        "        positions_total=mt5.positions_total()\n",
        "        if positions_total==0:\n",
        "            break"
      ],
      "execution_count": null,
      "outputs": []
    },
    {
      "cell_type": "code",
      "metadata": {
        "id": "12X0aHMwto9J"
      },
      "source": [
        "def breakeven_venda(position_id,lote,pr_inicial,tp_venda,sl_venda):\n",
        "    symbol = par\n",
        "    point = mt5.symbol_info(symbol).point\n",
        "    price=mt5.symbol_info_tick(symbol).bid\n",
        "    tp_venda = price - 100 * point\n",
        "    sl_venda = price + 10 * point\n",
        "    while True:\n",
        "        symbol = par\n",
        "        lot= lote\n",
        "        #dados = pegar_dados()\n",
        "        #pr_atual = dados['close'].iloc[-1]\n",
        "        point = mt5.symbol_info(symbol).point\n",
        "        price=mt5.symbol_info_tick(symbol).bid\n",
        "        var = (price/pr_inicial-1)*1000\n",
        "        tp_venda_rev = price - 100 * point\n",
        "        sl_venda_rev = price + 10 * point\n",
        "        if var < -0.12:\n",
        "            if sl_venda_rev < sl_venda:\n",
        "                tp_venda = tp_venda_rev\n",
        "                sl_venda = sl_venda_rev\n",
        "                #preparando a ordem de venda \n",
        "                desviation = 1\n",
        "                request2={\n",
        "                    \"action\": mt5.TRADE_ACTION_SLTP,\n",
        "                    \"symbol\": symbol,\n",
        "                    \"volume\": lot,\n",
        "                    \"type\": mt5.ORDER_TYPE_SELL,\n",
        "                    \"price\": price,\n",
        "                    \"position\": position_id,\n",
        "                    \"sl\": sl_venda,\n",
        "                    \"tp\": tp_venda ,\n",
        "                    \"deviation\": desviation,\n",
        "                    \"magic\": 234000,\n",
        "                    \"comment\": \"python script close\",\n",
        "                    \"type_time\": mt5.ORDER_TIME_GTC,\n",
        "                    \"type_filling\": mt5.ORDER_FILLING_RETURN,\n",
        "                }\n",
        "                result = mt5.order_send(request2)\n",
        "        positions_total=mt5.positions_total()\n",
        "        if positions_total==0:\n",
        "            break"
      ],
      "execution_count": null,
      "outputs": []
    },
    {
      "cell_type": "code",
      "metadata": {
        "id": "WF--4DU7to9K"
      },
      "source": [
        "def Buy_Sell(dir,lote):\n",
        "    symbol = 'EURUSD'\n",
        "    lot = lote\n",
        "    point = mt5.symbol_info(symbol).point\n",
        "    price = mt5.symbol_info_tick(symbol).ask\n",
        "    pr_inicial = price\n",
        "    deviation = 1\n",
        "    tp_comp = price + 100 * point\n",
        "    sl_comp = price - 100 * point\n",
        "    if dir == 1:\n",
        "        # Preparando ordem de compra\n",
        "        point = mt5.symbol_info(symbol).point\n",
        "        price = mt5.symbol_info_tick(symbol).ask\n",
        "        desviation = 1\n",
        "        request = {\n",
        "            \"action\": mt5.TRADE_ACTION_DEAL,\n",
        "            \"symbol\": symbol,\n",
        "            \"volume\": lot,\n",
        "            \"type\": mt5.ORDER_TYPE_BUY,\n",
        "            \"price\": price,\n",
        "            \"sl\": sl_comp,\n",
        "            \"tp\": tp_comp,\n",
        "            \"magic\": 234000,\n",
        "            \"desviation\": desviation,\n",
        "            \"comment\": \"prython script open\",\n",
        "            \"type_time\":mt5.ORDER_TIME_GTC,\n",
        "            'type_filling':mt5.ORDER_FILLING_RETURN,\n",
        "        }\n",
        "        result = mt5.order_send(request)\n",
        "        #print(result)\n",
        "        #if result.retcode != mt5.TRADE_RETCODE_DONE:\n",
        "        #    print(\". 2. order_send failed, retcode={}\".format(result.retcode),end='\\r')  \n",
        "        position_id=result.order\n",
        "        breakeven_compra(position_id,lote,price,tp_comp,sl_comp)\n",
        "    if dir == -1:\n",
        "        #preparando a ordem de venda \n",
        "        point = mt5.symbol_info(symbol).point\n",
        "        price=mt5.symbol_info_tick(symbol).bid\n",
        "        desviation = 1\n",
        "        tp_venda = price - 100 * point\n",
        "        sl_venda = price + 100 * point\n",
        "        request2={\n",
        "            \"action\": mt5.TRADE_ACTION_DEAL,\n",
        "            \"symbol\": symbol,\n",
        "            \"volume\": lot,\n",
        "            \"type\": mt5.ORDER_TYPE_SELL,\n",
        "            \"price\": price,\n",
        "            \"sl\": sl_venda,\n",
        "            \"tp\": tp_venda ,\n",
        "            \"deviation\": desviation,\n",
        "            \"magic\": 234000,\n",
        "            \"comment\": \"python script close\",\n",
        "            \"type_time\": mt5.ORDER_TIME_GTC,\n",
        "            \"type_filling\": mt5.ORDER_FILLING_RETURN,\n",
        "        }\n",
        "        result = mt5.order_send(request2)\n",
        "        print(result)\n",
        "        position_id=result.order\n",
        "        breakeven_venda(position_id,lote,price,tp_venda,sl_venda)"
      ],
      "execution_count": null,
      "outputs": []
    },
    {
      "cell_type": "code",
      "metadata": {
        "id": "9xVtMRVPto9K"
      },
      "source": [
        "while True:\n",
        "    if sinal() ==1:\n",
        "        print('Ordem de compra emitida!',end='\\r')\n",
        "        Buy_Sell(1,0.01)\n",
        "    if sinal() ==-1:\n",
        "        print('Ordem de venda emitida!',end='\\r')\n",
        "        Buy_Sell(-1,0.01)"
      ],
      "execution_count": null,
      "outputs": []
    },
    {
      "cell_type": "code",
      "metadata": {
        "id": "qbCcyLGxto9L"
      },
      "source": [
        ""
      ],
      "execution_count": null,
      "outputs": []
    }
  ]
}