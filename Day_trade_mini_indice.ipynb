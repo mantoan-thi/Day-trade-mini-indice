{
  "nbformat": 4,
  "nbformat_minor": 0,
  "metadata": {
    "kernelspec": {
      "display_name": "Python 3",
      "language": "python",
      "name": "python3"
    },
    "language_info": {
      "codemirror_mode": {
        "name": "ipython",
        "version": 3
      },
      "file_extension": ".py",
      "mimetype": "text/x-python",
      "name": "python",
      "nbconvert_exporter": "python",
      "pygments_lexer": "ipython3",
      "version": "3.8.5"
    },
    "colab": {
      "name": "Day_trade_mini_indice.ipynb",
      "provenance": [],
      "include_colab_link": true
    }
  },
  "cells": [
    {
      "cell_type": "markdown",
      "metadata": {
        "id": "view-in-github",
        "colab_type": "text"
      },
      "source": [
        "<a href=\"https://colab.research.google.com/github/mantoan-thi/Day_trade_mini_indice/blob/main/Day_trade_mini_indice.ipynb\" target=\"_parent\"><img src=\"https://colab.research.google.com/assets/colab-badge.svg\" alt=\"Open In Colab\"/></a>"
      ]
    },
    {
      "cell_type": "code",
      "metadata": {
        "id": "zTFnGYGbtRa8"
      },
      "source": [
        "import MetaTrader5 as mt5\n",
        "import pandas as pd\n",
        "import numpy as np\n",
        "from talib.abstract import *\n",
        "import matplotlib.pyplot as plt\n",
        "import datetime, time\n",
        "%matplotlib inline\n",
        "import plotly.graph_objects as go\n",
        "import seaborn as sns\n",
        "import random\n",
        "from datetime import timedelta, date\n",
        "import time\n",
        "from datetime import datetime\n",
        "import plotly.express as px\n",
        "import seaborn as sns\n",
        "from sklearn.ensemble import RandomForestClassifier\n",
        "from sklearn.model_selection import train_test_split\n",
        "from sklearn.model_selection import GridSearchCV\n",
        "from sklearn.metrics import accuracy_score, recall_score, confusion_matrix,classification_report\n",
        "from sklearn.preprocessing import StandardScaler"
      ],
      "execution_count": null,
      "outputs": []
    },
    {
      "cell_type": "code",
      "metadata": {
        "id": "czMiybyhtRbC"
      },
      "source": [
        "if not mt5.initialize(login=3002637411, server=\"Rico-Demo\",password=\"heidegger*\"):\n",
        "    print(\"initialize() failed, error code =\",mt5.last_error())\n",
        "    quit()"
      ],
      "execution_count": null,
      "outputs": []
    },
    {
      "cell_type": "code",
      "metadata": {
        "id": "p6IK7TZ5tRbD"
      },
      "source": [
        "def obter_precos_treino(par,time_,modo):\n",
        "    if time_ == 'M1':timeframe = mt5.TIMEFRAME_M1\n",
        "    if time_ == 'M5':timeframe = mt5.TIMEFRAME_M5\n",
        "    if time_ == 'M15':timeframe = mt5.TIMEFRAME_M15\n",
        "    if time_ == 'H1':timeframe = mt5.TIMEFRAME_H1\n",
        "    if time_ == 'H2':timeframe = mt5.TIMEFRAME_H2\n",
        "    if time_ == 'H3':timeframe = mt5.TIMEFRAME_H3\n",
        "    if time_ == 'H4':timeframe = mt5.TIMEFRAME_H4\n",
        "    if time_ == 'H6':timeframe = mt5.TIMEFRAME_H6\n",
        "    if time_ == 'H8':timeframe = mt5.TIMEFRAME_H8\n",
        "    if time_ == 'H12':timeframe = mt5.TIMEFRAME_H12\n",
        "    if time_ == 'D1':timeframe = mt5.TIMEFRAME_D1\n",
        "    if time_ == 'W1': timeframe = mt5.TIMEFRAME_W1\n",
        "    if time_ == 'MN1':timeframe = mt5.TIMEFRAME_MN1\n",
        "    rates = pd.DataFrame(mt5.copy_rates_from_pos(par,timeframe,200,5000))\n",
        "    rates.drop(columns=['spread','real_volume'], inplace=True)\n",
        "    rates['time'] = pd.to_datetime(rates['time'],unit='s')\n",
        "    if modo == 'Compra':\n",
        "        rates['Retorno'] = (rates['close'].shift(-4)/rates['close'].shift(-1)-1)*10000\n",
        "        _,_, rates['lowerband'] = BBANDS(rates.close, timeperiod=20, nbdevup=2.0, nbdevdn=2.0, matype=0)\n",
        "        rates['RSI'] = RSI(rates.close, timeperiod=14)\n",
        "        rates['macd'], rates['macdsignal'],_ = MACD(rates.close, fastperiod=12, slowperiod=26, signalperiod=9)\n",
        "        rates['slowk'], rates['slowd'] = STOCH(rates.high, rates.low, rates.close, fastk_period=5, slowk_period=3, slowk_matype=0, slowd_period=3, slowd_matype=0)\n",
        "        #rates['MOM'] = MOM(rates.close, timeperiod=10)*10000\n",
        "        #rates['Media_9'] = SMA(rates.close, timeperiod=9)\n",
        "        #rates['Media_21'] = SMA(rates.close, timeperiod=21)\n",
        "    if modo == 'Venda':\n",
        "        rates['Retorno'] = (rates['close'].shift(-4)/rates['close'].shift(-1)-1)*10000  \n",
        "        rates['upperband'],_,_ = BBANDS(rates.close, timeperiod=20, nbdevup=2.5, nbdevdn=2.5, matype=0)\n",
        "        rates['RSI'] = RSI(rates.close, timeperiod=14)\n",
        "        rates['macd'], rates['macdsignal'],_ = MACD(rates.close, fastperiod=12, slowperiod=26, signalperiod=9)\n",
        "        rates['slowk'], rates['slowd'] = STOCH(rates.high, rates.low, rates.close, fastk_period=5, slowk_period=3, slowk_matype=0, slowd_period=3, slowd_matype=0)\n",
        "        #rates['MOM'] = MOM(rates.close, timeperiod=10)*10000\n",
        "        #rates['Media_9'] = SMA(rates.close, timeperiod=9)\n",
        "        #rates['Media_21'] = SMA(rates.close, timeperiod=21)\n",
        "    rates = rates[(rates['Retorno']>30)]\n",
        "    rates.dropna(inplace=True)\n",
        "    return rates"
      ],
      "execution_count": null,
      "outputs": []
    },
    {
      "cell_type": "code",
      "metadata": {
        "id": "w20w2Bj-tRbF"
      },
      "source": [
        "def obter_precos_test(par,time_,modo):\n",
        "    if time_ == 'M1':timeframe = mt5.TIMEFRAME_M1\n",
        "    if time_ == 'M5':timeframe = mt5.TIMEFRAME_M5\n",
        "    if time_ == 'M15':timeframe = mt5.TIMEFRAME_M15\n",
        "    if time_ == 'H1':timeframe = mt5.TIMEFRAME_H1\n",
        "    if time_ == 'H2':timeframe = mt5.TIMEFRAME_H2\n",
        "    if time_ == 'H3':timeframe = mt5.TIMEFRAME_H3\n",
        "    if time_ == 'H4':timeframe = mt5.TIMEFRAME_H4\n",
        "    if time_ == 'H6':timeframe = mt5.TIMEFRAME_H6\n",
        "    if time_ == 'H8':timeframe = mt5.TIMEFRAME_H8\n",
        "    if time_ == 'H12':timeframe = mt5.TIMEFRAME_H12\n",
        "    if time_ == 'D1':timeframe = mt5.TIMEFRAME_D1\n",
        "    if time_ == 'W1': timeframe = mt5.TIMEFRAME_W1\n",
        "    if time_ == 'MN1':timeframe = mt5.TIMEFRAME_MN1\n",
        "    rates = pd.DataFrame(mt5.copy_rates_from_pos(par,timeframe,0,199))\n",
        "    rates.drop(columns=['spread','real_volume'], inplace=True)\n",
        "    rates['time'] = pd.to_datetime(rates['time'],unit='s')\n",
        "    if modo == 'Compra':\n",
        "        rates['Retorno'] = (rates['close'].shift(-4)/rates['close'].shift(-1)-1)*10000\n",
        "        _,_, rates['lowerband'] = BBANDS(rates.close, timeperiod=20, nbdevup=2.0, nbdevdn=2.0, matype=0)\n",
        "        rates['RSI'] = RSI(rates.close, timeperiod=14)\n",
        "        rates['macd'], rates['macdsignal'],_ = MACD(rates.close, fastperiod=12, slowperiod=26, signalperiod=9)\n",
        "        rates['slowk'], rates['slowd'] = STOCH(rates.high, rates.low, rates.close, fastk_period=5, slowk_period=3, slowk_matype=0, slowd_period=3, slowd_matype=0)\n",
        "        #rates['MOM'] = MOM(rates.close, timeperiod=10)*10000\n",
        "        #rates['Media_9'] = SMA(rates.close, timeperiod=9)\n",
        "        #rates['Media_21'] = SMA(rates.close, timeperiod=21)\n",
        "        #rates = rates[(rates['Retorno']>0)]\n",
        "        #rates.dropna(inplace=True)\n",
        "    if modo == 'Venda':\n",
        "        rates['Retorno'] = (rates['close'].shift(-4)/rates['close'].shift(-1)-1)*10000\n",
        "        rates['upperband'],_,_ = BBANDS(rates.close, timeperiod=20, nbdevup=2.0, nbdevdn=2.0, matype=0)\n",
        "        rates['RSI'] = RSI(rates.close, timeperiod=14)\n",
        "        rates['macd'], rates['macdsignal'],_ = MACD(rates.close, fastperiod=12, slowperiod=26, signalperiod=9)\n",
        "        rates['slowk'], rates['slowd'] = STOCH(rates.high, rates.low, rates.close, fastk_period=5, slowk_period=3, slowk_matype=0, slowd_period=3, slowd_matype=0)\n",
        "        #rates['MOM'] = MOM(rates.close, timeperiod=10)*10000\n",
        "        #rates['Media_9'] = SMA(rates.close, timeperiod=9)\n",
        "        #rates['Media_21'] = SMA(rates.close, timeperiod=21)\n",
        "        #rates = rates[(rates['Retorno']>0)]\n",
        "        #rates.dropna(inplace=True)\n",
        "    return rates"
      ],
      "execution_count": null,
      "outputs": []
    },
    {
      "cell_type": "code",
      "metadata": {
        "id": "eSjF3TiOtRbH"
      },
      "source": [
        "def format(dados,modo):\n",
        "    if modo=='Compra':\n",
        "        dados['macd2']=dados['macd'].shift(1)\n",
        "        dados['macdsignal2']=dados['macdsignal'].shift(1)\n",
        "        dados['slowk2']=dados['slowk'].shift(1)\n",
        "        dados['slowd2']=dados['slowd'].shift(1)\n",
        "        #dados['MOM2']=dados['MOM'].shift(1)\n",
        "        #dados['Media_92']=dados['Media_9'].shift(1)\n",
        "        #dados['Media_212']=dados['Media_21'].shift(1)\n",
        "        dados['Sinal_Bandas'] = dados.apply(lambda x: 1 if x['close'] < x['lowerband'] and x['Retorno'] > 0 else 0,axis=1)\n",
        "        dados['Sinal_RSI'] = dados.apply(lambda x: 1 if x['RSI'] < 30 and x['Retorno'] > 0 else 0,axis=1)\n",
        "        dados['Sinal_MACD'] = dados.apply(lambda x: 1 if x['macd'] > x['macdsignal'] and x['macd2'] < x['macdsignal2'] and x['Retorno'] > 0 else 0,axis=1)\n",
        "        dados['Sinal_STOCH'] = dados.apply(lambda x: 1 if x['slowk'] < 40 and x['slowd'] < 40 and x['slowk'] > x['slowd'] and x['slowk2'] < x['slowd2'] and x['Retorno'] > 0 else 0,axis=1)\n",
        "        #dados['Sinal_MOM'] = dados.apply(lambda x: 1 if x['MOM'] > -20 and x['MOM2'] < -20 and x['Retorno'] > 0 else 0,axis=1)\n",
        "        #dados['Sinal_MEDIA'] = dados.apply(lambda x: 1 if x['Media_9'] > x['Media_21'] and x['Media_92'] < x['Media_212'] and x['Retorno'] > 0 else 0,axis=1)\n",
        "        dados['Total'] = dados['Sinal_Bandas']+dados['Sinal_RSI']+dados['Sinal_MACD']+dados['Sinal_STOCH']#+dados['Sinal_MOM']+dados['Sinal_MEDIA']\n",
        "        dados['Total']=dados.apply(lambda x: 1 if x['Total']!= 0 else 0,axis=1)\n",
        "        dados.dropna(inplace=True)\n",
        "        qtde_ex = (dados.shape[0]-(dados['Total'].sum()*2))\n",
        "        dados.drop(dados[dados['Total']==0][:qtde_ex].index,inplace=True)\n",
        "    if modo=='Venda':\n",
        "        dados['macd2']=dados['macd'].shift(1)\n",
        "        dados['macdsignal2']=dados['macdsignal'].shift(1)\n",
        "        dados['slowk2']=dados['slowk'].shift(1)\n",
        "        dados['slowd2']=dados['slowd'].shift(1)\n",
        "        #dados['MOM2']=dados['MOM'].shift(1)\n",
        "        #dados['Media_92']=dados['Media_9'].shift(1)\n",
        "        #dados['Media_212']=dados['Media_21'].shift(1)\n",
        "        dados['Sinal_Bandas'] = dados.apply(lambda x: 1 if x['close'] > x['upperband'] and x['Retorno'] < 0 else 0,axis=1)\n",
        "        dados['Sinal_RSI'] = dados.apply(lambda x: 1 if x['RSI'] > 70 and x['Retorno'] > 0 else 0,axis=1)\n",
        "        dados['Sinal_MACD'] = dados.apply(lambda x: 1 if x['macd'] < x['macdsignal'] and x['macd2'] > x['macdsignal2'] and x['Retorno'] < 0 else 0,axis=1)\n",
        "        dados['Sinal_STOCH'] = dados.apply(lambda x: 1 if x['slowk'] > 60 and x['slowd'] > 60 and x['slowk'] < x['slowd'] and x['slowk2'] > x['slowd2'] and x['Retorno'] < 0 else 0,axis=1)\n",
        "        #dados['Sinal_MOM'] = dados.apply(lambda x: 1 if x['MOM'] < 120 and x['MOM2'] > 120 and x['Retorno'] > 0 else 0,axis=1)\n",
        "        #dados['Sinal_MEDIA'] = dados.apply(lambda x: 1 if x['Media_9'] < x['Media_21'] and x['Media_92'] > x['Media_212'] and x['Retorno'] > 0 else 0,axis=1)\n",
        "        dados['Total'] = dados['Sinal_Bandas']+dados['Sinal_RSI']+dados['Sinal_MACD']+dados['Sinal_STOCH']#+dados['Sinal_MOM']+dados['Sinal_MEDIA']\n",
        "        dados['Total']=dados.apply(lambda x: 1 if x['Total']!= 0 else 0,axis=1)\n",
        "        dados.dropna(inplace=True)\n",
        "        qtde_ex = (dados.shape[0]-(dados['Total'].sum()*2))\n",
        "        dados.drop(dados[dados['Total']==0][:qtde_ex].index,inplace=True)\n",
        "    return dados"
      ],
      "execution_count": null,
      "outputs": []
    },
    {
      "cell_type": "markdown",
      "metadata": {
        "id": "T-JJzld6tRbJ"
      },
      "source": [
        "# Machine learning Compra"
      ]
    },
    {
      "cell_type": "code",
      "metadata": {
        "id": "KBcTBu4YtRbK"
      },
      "source": [
        "par = 'WINQ21'\n",
        "\n",
        "dataset_cp= obter_precos_treino(par,'M5','Compra')\n",
        "dados = format(dataset_cp,'Compra')\n",
        "X = dados[['lowerband', 'RSI', 'macd', 'macdsignal', 'slowk', \n",
        "                     'slowd', 'macd2', 'macdsignal2', 'slowk2',\n",
        "                     'slowd2']]\n",
        "scaler = StandardScaler()\n",
        "\n",
        "X = scaler.fit_transform(X)\n",
        "X = scaler.transform(X)\n",
        "\n",
        "y=dados['Total']\n",
        "X_train, X_test, y_train, y_test = train_test_split(X, y, test_size=0.33)\n",
        "\n",
        "param_grid = {\n",
        "        \"max_depth\": [4, 5, 6],\n",
        "        \"max_features\": [\"auto\", \"sqrt\"],\n",
        "        \"n_estimators\": [20,50,100]\n",
        "    }\n",
        "cf = RandomForestClassifier()\n",
        "cf_cv = GridSearchCV(estimator=cf, param_grid=param_grid, cv=5)\n",
        "cf_cv.fit(X_train, y_train)\n",
        "param_cp = cf_cv.best_params_\n",
        "\n",
        "rfc1=RandomForestClassifier(random_state=42,max_features=param_cp['max_features'], n_estimators= param_cp['n_estimators'], max_depth=param_cp['max_depth'])\n",
        "rfc1.fit(X_train, y_train)\n",
        "y_pred=rfc1.predict(X_test)\n",
        "print(accuracy_score(y_test,y_pred))\n",
        "print(recall_score(y_test,y_pred))\n",
        "print(confusion_matrix(y_test,y_pred))\n",
        "print(classification_report(y_test,y_pred))"
      ],
      "execution_count": null,
      "outputs": []
    },
    {
      "cell_type": "code",
      "metadata": {
        "id": "7yautl9stRbK"
      },
      "source": [
        "par = 'WINQ21'\n",
        "dataset_vd = obter_precos_treino(par,'M5','Venda')\n",
        "dados2 = format(dataset_vd,'Venda')\n",
        "X2 = dados2[['upperband', 'RSI', 'macd', 'macdsignal', 'slowk', \n",
        "                 'slowd', 'macd2', 'macdsignal2', 'slowk2',\n",
        "                 'slowd2']]\n",
        "y2=dados2['Total']\n",
        "scaler = StandardScaler()\n",
        "\n",
        "X2 = scaler.fit_transform(X2)\n",
        "X2 = scaler.transform(X2)\n",
        "X_train2, X_test2, y_train2, y_test2 = train_test_split(X2, y2, test_size=0.33)\n",
        "\n",
        "param_grid = {\n",
        "    \"max_depth\": [4, 5, 6],\n",
        "    \"max_features\": [\"auto\", \"sqrt\"],\n",
        "    \"n_estimators\": [20,50,100]\n",
        "}\n",
        "cf2 = RandomForestClassifier()\n",
        "cf_cv2 = GridSearchCV(estimator=cf2, param_grid=param_grid, cv=5)\n",
        "cf_cv2.fit(X_train2, y_train2)\n",
        "\n",
        "param_vd = cf_cv2.best_params_\n",
        "\n",
        "rfc2=RandomForestClassifier(random_state=42,max_features=param_vd['max_features'], n_estimators= param_vd['n_estimators'], max_depth=param_vd['max_depth'])\n",
        "rfc2.fit(X_train2, y_train2)\n",
        "y_pred2=rfc2.predict(X_test2)\n",
        "print(accuracy_score(y_test2,y_pred2))\n",
        "print(recall_score(y_test2,y_pred2))\n",
        "print(confusion_matrix(y_test2,y_pred2))\n",
        "print(classification_report(y_test2,y_pred2))"
      ],
      "execution_count": null,
      "outputs": []
    },
    {
      "cell_type": "markdown",
      "metadata": {
        "id": "TAcmmNcjtRbL"
      },
      "source": [
        "# Backtest"
      ]
    },
    {
      "cell_type": "code",
      "metadata": {
        "id": "qFBQ5JQUtRbM"
      },
      "source": [
        "def backtest(modo): \n",
        "    if modo=='Compra':\n",
        "        par = 'WINQ21'\n",
        "        New_dados = obter_precos_test(par,'M5','Compra')\n",
        "        New_dados['macd2']=New_dados['macd'].shift(1)\n",
        "        New_dados['macdsignal2']=New_dados['macdsignal'].shift(1)\n",
        "        New_dados['slowk2']=New_dados['slowk'].shift(1)\n",
        "        New_dados['slowd2']=New_dados['slowd'].shift(1)\n",
        "        #New_dados['MOM2']=New_dados['MOM'].shift(1)\n",
        "        #New_dados['Media_92']=New_dados['Media_9'].shift(1)\n",
        "        #New_dados['Media_212']=New_dados['Media_21'].shift(1)\n",
        "        New_dados.dropna(inplace=True)\n",
        "        New_dados2 = New_dados[['lowerband', 'RSI', 'macd', 'macdsignal', 'slowk', \n",
        "                         'slowd', 'macd2', 'macdsignal2', 'slowk2',\n",
        "                         'slowd2']]\n",
        "        #New_dados2.dropna(inplace=True)\n",
        "    if modo=='Venda':\n",
        "        par = 'WINQ21'\n",
        "        New_dados = obter_precos_test(par,'M5','Venda')\n",
        "        New_dados['macd2']=New_dados['macd'].shift(1)\n",
        "        New_dados['macdsignal2']=New_dados['macdsignal'].shift(1)\n",
        "        New_dados['slowk2']=New_dados['slowk'].shift(1)\n",
        "        New_dados['slowd2']=New_dados['slowd'].shift(1)\n",
        "        #New_dados['MOM2']=New_dados['MOM'].shift(1)\n",
        "        #New_dados['Media_92']=New_dados['Media_9'].shift(1)\n",
        "        #New_dados['Media_212']=New_dados['Media_21'].shift(1)\n",
        "        New_dados.dropna(inplace=True)\n",
        "        New_dados2 = New_dados[['upperband', 'RSI', 'macd', 'macdsignal', 'slowk', \n",
        "                         'slowd', 'macd2', 'macdsignal2', 'slowk2',\n",
        "                         'slowd2']]\n",
        "        #New_dados2.dropna(inplace=True)\n",
        "    return New_dados2,New_dados"
      ],
      "execution_count": null,
      "outputs": []
    },
    {
      "cell_type": "code",
      "metadata": {
        "id": "QqZn6lQ3tRbO"
      },
      "source": [
        "def test(modo):\n",
        "    if modo=='Compra':\n",
        "        New_dados2,New_dados=backtest('Compra')\n",
        "        New_dados2.shape\n",
        "        for i in range(New_dados2.shape[0]):\n",
        "            pred = rfc1.predict(New_dados2[i:i+1])\n",
        "            if pred[0]!=0 and i < 50:\n",
        "                print('Ordem de compra emitida!!!',New_dados['time'][i:i+1].item())\n",
        "                input()\n",
        "    if modo=='Venda':\n",
        "        New_dados2,New_dados=backtest('Venda')\n",
        "        New_dados2.shape\n",
        "        for i in range(New_dados2.shape[0]):\n",
        "            pred = rfc2.predict(New_dados2[i:i+1])\n",
        "            if pred[0]!=0 and i < 50:\n",
        "                print('Ordem de venda emitida!!!',New_dados['time'][i:i+1].item())\n",
        "                input()\n"
      ],
      "execution_count": null,
      "outputs": []
    },
    {
      "cell_type": "code",
      "metadata": {
        "id": "jRjORyf2tRbP"
      },
      "source": [
        "predt_cp =[]\n",
        "New_dados2_cp,New_dados_cp=backtest('Compra')\n",
        "for i in range(New_dados_cp.shape[0]):\n",
        "    predt_cp.append(rfc1.predict(New_dados2_cp[i:i+1])[0])\n",
        "New_dados_cp['Pred']=predt_cp\n",
        "New_dados_cp['Retornp_total']=New_dados_cp.apply(lambda x: x['Retorno'] if x['Retorno']> 0 and x['Pred']==1 else x['Retorno'] if x['Retorno']< 0 and x['Pred']==1 else 0,axis=1)\n",
        "New_dados_cp['Acum_compra']=New_dados_cp['Retornp_total'].cumsum()\n",
        "print('Compra R$',round(float(New_dados_cp['Acum_compra'][-1:]),2))"
      ],
      "execution_count": null,
      "outputs": []
    },
    {
      "cell_type": "code",
      "metadata": {
        "id": "7pufkF6TtRbQ"
      },
      "source": [
        "predt_vd =[]\n",
        "New_dados2_vd,New_dados_vd=backtest('Venda')\n",
        "for i in range(New_dados_vd.shape[0]):\n",
        "    predt_vd.append(rfc2.predict(New_dados2_vd[i:i+1])[0])\n",
        "New_dados_vd['Pred']=predt_vd\n",
        "New_dados_vd['Retornp_total']=New_dados_vd.apply(lambda x: x['Retorno'] if x['Retorno']< 0 and x['Pred']==1 else x['Retorno'] if x['Retorno']> 0 and x['Pred']==1 else 0,axis=1)\n",
        "New_dados_vd['Acum_compra']=New_dados_vd['Retornp_total'].cumsum()\n",
        "print('Venda R$',round(float(New_dados_vd['Acum_compra'][-1:]),2))"
      ],
      "execution_count": null,
      "outputs": []
    },
    {
      "cell_type": "code",
      "metadata": {
        "id": "fCbHxTj2tRbR"
      },
      "source": [
        "sns.histplot(New_dados_vd['Retornp_total'],kde=True);"
      ],
      "execution_count": null,
      "outputs": []
    },
    {
      "cell_type": "code",
      "metadata": {
        "id": "5TOgp8T2tRbS"
      },
      "source": [
        "sns.histplot(New_dados_cp['Retornp_total'],kde=True);"
      ],
      "execution_count": null,
      "outputs": []
    },
    {
      "cell_type": "code",
      "metadata": {
        "id": "OSk4LsLEtRbT"
      },
      "source": [
        "fig=px.line(New_dados_cp,x='time',y='Acum_compra')\n",
        "fig.show()"
      ],
      "execution_count": null,
      "outputs": []
    },
    {
      "cell_type": "code",
      "metadata": {
        "id": "gfVRolWQtRbU"
      },
      "source": [
        "fig=px.line(New_dados_vd,x='time',y='Acum_compra')\n",
        "fig.show()"
      ],
      "execution_count": null,
      "outputs": []
    },
    {
      "cell_type": "code",
      "metadata": {
        "id": "qC6RYjZ5tRbV",
        "outputId": "7297d5fa-28ef-4c8a-cabd-5ffc2e4c6500"
      },
      "source": [
        "New_dados2_cp,New_dados_cp=backtest('Compra')\n",
        "New_dados2_vd,New_dados_vd=backtest('Venda')\n",
        "\n",
        "if rfc1.predict(New_dados2_cp[-1:])[0]==1:\n",
        "    print(\"Emitir ordem de compra!! às:\",New_dados_cp['time'][-1:].item())\n",
        "if rfc2.predict(New_dados2_vd[-1:])[0]==1:\n",
        "    print(\"Emitir ordem de venda!!às:\",New_dados_vd['time'][-1:].item())"
      ],
      "execution_count": null,
      "outputs": [
        {
          "output_type": "stream",
          "text": [
            "Emitir ordem de venda!!às: 2021-06-28 17:45:00\n"
          ],
          "name": "stdout"
        }
      ]
    }
  ]
}