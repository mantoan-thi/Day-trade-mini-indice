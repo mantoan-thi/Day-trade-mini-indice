{
  "nbformat": 4,
  "nbformat_minor": 0,
  "metadata": {
    "kernelspec": {
      "display_name": "Python 3",
      "language": "python",
      "name": "python3"
    },
    "language_info": {
      "codemirror_mode": {
        "name": "ipython",
        "version": 3
      },
      "file_extension": ".py",
      "mimetype": "text/x-python",
      "name": "python",
      "nbconvert_exporter": "python",
      "pygments_lexer": "ipython3",
      "version": "3.8.5"
    },
    "colab": {
      "name": "Position trading - Análise de várias Empresas.ipynb",
      "provenance": [],
      "include_colab_link": true
    }
  },
  "cells": [
    {
      "cell_type": "markdown",
      "metadata": {
        "id": "view-in-github",
        "colab_type": "text"
      },
      "source": [
        "<a href=\"https://colab.research.google.com/github/mantoan-thi/Day_trade_mini_indice/blob/main/Position_trading_An%C3%A1lise_de_v%C3%A1rias_Empresas.ipynb\" target=\"_parent\"><img src=\"https://colab.research.google.com/assets/colab-badge.svg\" alt=\"Open In Colab\"/></a>"
      ]
    },
    {
      "cell_type": "code",
      "metadata": {
        "id": "xV34tHoquoiI"
      },
      "source": [
        "import numpy as np\n",
        "import pandas as pd\n",
        "from pandas_datareader import data as wb\n",
        "import matplotlib.pyplot as plt\n",
        "import plotly.graph_objects as go\n",
        "import seaborn as sns\n",
        "import random\n",
        "from datetime import timedelta, date"
      ],
      "execution_count": null,
      "outputs": []
    },
    {
      "cell_type": "code",
      "metadata": {
        "id": "PCzzJ8VPuoiN"
      },
      "source": [
        "def baixar_ativo(ativo,data_inicial,data_final):\n",
        "    data = pd.DataFrame()\n",
        "    data = wb.DataReader(ativo,data_source='yahoo',start=data_inicial,end=data_final)\n",
        "    data['Var'] = data['Adj Close'].pct_change()\n",
        "    data['Media_8d'] = data['Var'].rolling(9).mean()\n",
        "    data['Retorno'] = data['Close'].shift(-1)-data['Open'].shift(-1)\n",
        "    return data"
      ],
      "execution_count": null,
      "outputs": []
    },
    {
      "cell_type": "code",
      "metadata": {
        "id": "Wv0Es7WTuoiO"
      },
      "source": [
        "def Empresa(perc_part):\n",
        "    ativos = pd.read_csv(\"C:/Users/Thiago/Downloads/IBOVDia_07-06-21.csv\",engine='python',delimiter=\";\")\n",
        "    ativos.reset_index(inplace=True)\n",
        "    ativos.drop(columns = ativos.columns[-1], inplace=True)\n",
        "    ativos.dropna(inplace=True)\n",
        "    ativos['Part. (%)'] = ativos['Part. (%)'].apply(lambda x: x.replace(\",\",\".\"))   \n",
        "    ativos['Part. (%)'] = ativos['Part. (%)'].apply(float) \n",
        "    ativos = ativos[ativos['Part. (%)'] > perc_part]\n",
        "\n",
        "    indice_ibov=['^BVSP']\n",
        "    New_ativos = []\n",
        "    for i in ativos['Código']:\n",
        "        New_ativos.append(i +'.SA')\n",
        "    New_ativos = New_ativos+indice_ibov\n",
        "    return New_ativos"
      ],
      "execution_count": null,
      "outputs": []
    },
    {
      "cell_type": "code",
      "metadata": {
        "id": "4iepzyMCuoiP"
      },
      "source": [
        "empresa = 'VALE3.SA'\n",
        "   # Data a ser prevista\n",
        "InicialDate = date.today() - timedelta(days=1460) \n",
        "EndDate = date.today() + timedelta(days=1) \n",
        "data = baixar_ativo(empresa,InicialDate,EndDate)"
      ],
      "execution_count": null,
      "outputs": []
    },
    {
      "cell_type": "code",
      "metadata": {
        "id": "g9olv1bWuoiP",
        "outputId": "fa4d2e79-de40-4e93-90a9-9668d9e79873"
      },
      "source": [
        "valor_acao = data['Adj Close'][-1]\n",
        "Qtde_lotes = 5\n",
        "valor_investido = valor_acao * Qtde_lotes\n",
        "print(f'valor investido: R$ {round(valor_investido,2)}')"
      ],
      "execution_count": null,
      "outputs": [
        {
          "output_type": "stream",
          "text": [
            "valor investido: R$ 559.15\n"
          ],
          "name": "stdout"
        }
      ]
    },
    {
      "cell_type": "code",
      "metadata": {
        "id": "ZDfaOc_ZuoiR",
        "outputId": "67bceedd-6ac5-4511-ba25-fc8b5523b072"
      },
      "source": [
        "new_data = set(data['Media_8d'])\n",
        "new_data = pd.DataFrame(new_data)\n",
        "new_data.dropna(inplace=True)\n",
        "new_data.shape"
      ],
      "execution_count": null,
      "outputs": [
        {
          "output_type": "execute_result",
          "data": {
            "text/plain": [
              "(981, 1)"
            ]
          },
          "metadata": {
            "tags": []
          },
          "execution_count": 6
        }
      ]
    },
    {
      "cell_type": "code",
      "metadata": {
        "id": "8GywADjNuoiS"
      },
      "source": [
        "rg = -0.033046961,-0.023046961,-0.013046961\n",
        "rg = np.array(rg)"
      ],
      "execution_count": null,
      "outputs": []
    },
    {
      "cell_type": "code",
      "metadata": {
        "id": "BuRNJjvPuoiS",
        "outputId": "f1ec16a6-6c8a-4384-ceed-9ca632397f9d"
      },
      "source": [
        "data.shape"
      ],
      "execution_count": null,
      "outputs": [
        {
          "output_type": "execute_result",
          "data": {
            "text/plain": [
              "(991, 19)"
            ]
          },
          "metadata": {
            "tags": []
          },
          "execution_count": 15
        }
      ]
    },
    {
      "cell_type": "code",
      "metadata": {
        "id": "ltsxkBRkuoiT"
      },
      "source": [
        "def analise(num_comb,data):\n",
        "    contador = 0\n",
        "    #num = data.shape[0]*num_comb\n",
        "    num = num_comb\n",
        "    print('Quantidade de combinações: ',num)\n",
        "    print('Analisando...')\n",
        "    for i in range(num):\n",
        "        Crit_comp1 = random.choice(rg)\n",
        "        Crit_comp2 = random.choice(rg)\n",
        "        Crit_comp3 = random.choice(rg)\n",
        "        Crit_comp4 = random.choice(rg)\n",
        "        Crit_comp5 = random.choice(rg)\n",
        "        Crit_comp6 = random.choice(rg)\n",
        "        Crit_comp7 = random.choice(rg)\n",
        "        Crit_comp8 = random.choice(rg)\n",
        "\n",
        "        data['Trading1'] = data.apply(lambda x: 1 if x['Media_8d'] > Crit_comp1 and x['Media_8d'] < Crit_comp2 else 0, axis=1)\n",
        "        data['Trading2'] = data.apply(lambda x: 1 if x['Media_8d'] > Crit_comp3 and x['Media_8d'] < Crit_comp4 else 0, axis=1)\n",
        "        data['Trading3'] = data.apply(lambda x: 1 if x['Media_8d'] > Crit_comp5 and x['Media_8d'] < Crit_comp6 else 0, axis=1)\n",
        "        data['Trading4'] = data.apply(lambda x: 1 if x['Media_8d'] > Crit_comp7 and x['Media_8d'] < Crit_comp8 else 0, axis=1)\n",
        "\n",
        "        data['Ganhos1'] = data.apply(lambda x: x['Retorno']*valor_investido if x['Retorno']> 0 and x['Trading1']==1 else x['Retorno']*valor_investido if x['Retorno']< 0 and x['Trading1']==1 else 0,axis=1)\n",
        "        data['Ganhos2'] = data.apply(lambda x: x['Retorno']*valor_investido if x['Retorno']> 0 and x['Trading2']==1 else x['Retorno']*valor_investido if x['Retorno']< 0 and x['Trading2']==1 else 0,axis=1)\n",
        "        data['Ganhos3'] = data.apply(lambda x: x['Retorno']*valor_investido if x['Retorno']> 0 and x['Trading3']==1 else x['Retorno']*valor_investido if x['Retorno']< 0 and x['Trading3']==1 else 0,axis=1)\n",
        "        data['Ganhos4'] = data.apply(lambda x: x['Retorno']*valor_investido if x['Retorno']> 0 and x['Trading4']==1 else x['Retorno']*valor_investido if x['Retorno']< 0 and x['Trading4']==1 else 0,axis=1)\n",
        "        data['Total'] = data['Ganhos1']+data['Ganhos2']+data['Ganhos3']+data['Ganhos4']\n",
        "        data['Acum'] = data['Total'].cumsum()\n",
        "        #data.to_csv('C:/Users/Thiago/Desktop/arquivos/6. Junho/09-06-2021/dados.csv')\n",
        "        if data['Acum'][-1] > contador:\n",
        "            melhor_criterio_1 = Crit_comp1\n",
        "            melhor_criterio_2 = Crit_comp2\n",
        "            melhor_criterio_3 = Crit_comp3\n",
        "            melhor_criterio_4 = Crit_comp4\n",
        "            melhor_criterio_5 = Crit_comp5\n",
        "            melhor_criterio_6 = Crit_comp6\n",
        "            melhor_criterio_7 = Crit_comp7\n",
        "            melhor_criterio_8 = Crit_comp8\n",
        "            Melhor_valor = data['Acum'][-1]\n",
        "            contador = data['Acum'][-1]\n",
        "        print(i,end='\\r')\n",
        "    print('\\n************ Análise finalizada!! ************')"
      ],
      "execution_count": null,
      "outputs": []
    },
    {
      "cell_type": "code",
      "metadata": {
        "id": "hxYm1PN7uoiU"
      },
      "source": [
        "def resultado(data):\n",
        "    # Criterio 1\n",
        "    Crit_comp11 = melhor_criterio_1\n",
        "    Crit_comp22 = melhor_criterio_2\n",
        "\n",
        "    # Critério 2\n",
        "    Crit_comp33 = melhor_criterio_3\n",
        "    Crit_comp44 = melhor_criterio_4\n",
        "\n",
        "    # Critério 3\n",
        "    Crit_comp55 = melhor_criterio_5\n",
        "    Crit_comp66 = melhor_criterio_6\n",
        "\n",
        "    # Critério 4\n",
        "    Crit_comp77 = melhor_criterio_7\n",
        "    Crit_comp88 = melhor_criterio_8\n",
        "    data['Trading1'] = data.apply(lambda x: 1 if x['Media_8d'] > Crit_comp11 and x['Media_8d'] < Crit_comp22 else 0, axis=1)\n",
        "    data['Trading2'] = data.apply(lambda x: 1 if x['Media_8d'] > Crit_comp33 and x['Media_8d'] < Crit_comp44 else 0, axis=1)\n",
        "    data['Trading3'] = data.apply(lambda x: 1 if x['Media_8d'] > Crit_comp55 and x['Media_8d'] < Crit_comp66 else 0, axis=1)\n",
        "    data['Trading4'] = data.apply(lambda x: 1 if x['Media_8d'] > Crit_comp77 and x['Media_8d'] < Crit_comp88 else 0, axis=1)\n",
        "    data['Ganhos1'] = data.apply(lambda x: x['Retorno']*valor_investido if x['Retorno']> 0 and x['Trading1']==1 else x['Retorno']*valor_investido if x['Retorno']< 0 and x['Trading1']==1 else 0,axis=1)\n",
        "    data['Ganhos2'] = data.apply(lambda x: x['Retorno']*valor_investido if x['Retorno']> 0 and x['Trading2']==1 else x['Retorno']*valor_investido if x['Retorno']< 0 and x['Trading2']==1 else 0,axis=1)\n",
        "    data['Ganhos3'] = data.apply(lambda x: x['Retorno']*valor_investido if x['Retorno']> 0 and x['Trading3']==1 else x['Retorno']*valor_investido if x['Retorno']< 0 and x['Trading3']==1 else 0,axis=1)\n",
        "    data['Ganhos4'] = data.apply(lambda x: x['Retorno']*valor_investido if x['Retorno']> 0 and x['Trading4']==1 else x['Retorno']*valor_investido if x['Retorno']< 0 and x['Trading4']==1 else 0,axis=1)\n",
        "    data['Total'] = data['Ganhos1']+data['Ganhos2']+data['Ganhos3']+data['Ganhos4']\n",
        "    data['Acum'] = data['Total'].cumsum()\n",
        "    print('\\n\\nRetorno previsto:R$ ',round(data['Acum'][-1],2))\n",
        "    #data['Acum'].plot(figsize=(15,5));\n",
        "    "
      ],
      "execution_count": null,
      "outputs": []
    },
    {
      "cell_type": "code",
      "metadata": {
        "id": "3x9Ln6pxuoiW",
        "outputId": "296f34d4-f434-4ff9-eb60-479c3e93230b"
      },
      "source": [
        "analise(6,data)\n",
        "#resultado(data)"
      ],
      "execution_count": null,
      "outputs": [
        {
          "output_type": "stream",
          "text": [
            "Quantidade de combinações:  6\n",
            "Analisando...\n",
            "5\n",
            "************ Análise finalizada!! ************\n"
          ],
          "name": "stdout"
        }
      ]
    },
    {
      "cell_type": "markdown",
      "metadata": {
        "id": "wn3unFCMuoiX"
      },
      "source": [
        "# Day trading para uma empresa"
      ]
    },
    {
      "cell_type": "code",
      "metadata": {
        "id": "aDtfL_V_uoiY"
      },
      "source": [
        "empresa = 'B3SA3.SA'\n",
        "   # Data a ser prevista\n",
        "InicialDate = date.today() - timedelta(days=180) \n",
        "EndDate = date.today() + timedelta(days=1) \n",
        "data = baixar_ativo(empresa,InicialDate,EndDate)\n",
        "resultado(data)\n",
        "trading = data['Trading1'][-1:]+data['Trading2'][-1:]+data['Trading3'][-1:]+data['Trading4'][-1:]\n",
        "if trading[0]>1:\n",
        "    print('\\nEmitir ordem de compra para o dia: ',EndDate)\n",
        "    print('Ticket do ativo:', empresa)\n",
        "else:\n",
        "    print('\\nFicar fora do mercadono dia: ',EndDate)\n",
        "    print('Ticket do ativo:', empresa)"
      ],
      "execution_count": null,
      "outputs": []
    },
    {
      "cell_type": "markdown",
      "metadata": {
        "id": "W22EpSL7uoiY"
      },
      "source": [
        "# Day trading em várias empresas"
      ]
    },
    {
      "cell_type": "code",
      "metadata": {
        "id": "2BrJLfVzuoiZ",
        "outputId": "4113ff36-c2a8-44a6-e6fc-4a705f05b6f0"
      },
      "source": [
        "ticker = Empresa(1)\n",
        "ticker"
      ],
      "execution_count": null,
      "outputs": [
        {
          "output_type": "execute_result",
          "data": {
            "text/plain": [
              "['ABEV3.SA',\n",
              " 'B3SA3.SA',\n",
              " 'BBDC3.SA',\n",
              " 'BBDC4.SA',\n",
              " 'BBAS3.SA',\n",
              " 'BPAC11.SA',\n",
              " 'CSAN3.SA',\n",
              " 'EQTL3.SA',\n",
              " 'GGBR4.SA',\n",
              " 'NTCO3.SA',\n",
              " 'GNDI3.SA',\n",
              " 'ITSA4.SA',\n",
              " 'ITUB4.SA',\n",
              " 'JBSS3.SA',\n",
              " 'RENT3.SA',\n",
              " 'LREN3.SA',\n",
              " 'MGLU3.SA',\n",
              " 'PETR3.SA',\n",
              " 'PETR4.SA',\n",
              " 'BRDT3.SA',\n",
              " 'RADL3.SA',\n",
              " 'RAIL3.SA',\n",
              " 'CSNA3.SA',\n",
              " 'SUZB3.SA',\n",
              " 'VALE3.SA',\n",
              " 'WEGE3.SA',\n",
              " '^BVSP']"
            ]
          },
          "metadata": {
            "tags": []
          },
          "execution_count": 1093
        }
      ]
    },
    {
      "cell_type": "code",
      "metadata": {
        "id": "CrQrkwaGuoiZ",
        "outputId": "4bf599f0-ab2c-4f5a-d62c-f302a4f59063"
      },
      "source": [
        "for i in ticker:\n",
        "    InicialDate = date.today() - timedelta(days=180) \n",
        "    EndDate = date.today() + timedelta(days=1) \n",
        "    data = baixar_ativo(i,InicialDate,EndDate)\n",
        "    resultado(data)\n",
        "    trading = data['Trading1'][-1:]+data['Trading2'][-1:]+data['Trading3'][-1:]+data['Trading4'][-1:]\n",
        "    if trading[0]>1:\n",
        "        print('Emitir ordem de compra para o dia: ',EndDate)\n",
        "        print('Ticket do ativo:',i)\n",
        "    else:\n",
        "        print('Ficar fora do mercado no dia: ',EndDate)\n",
        "        print('Ticket do ativo:',i)"
      ],
      "execution_count": null,
      "outputs": [
        {
          "output_type": "stream",
          "text": [
            "\n",
            "\n",
            "Retorno previsto:R$  123.8\n",
            "Ficar fora do mercado no dia:  2021-06-10\n",
            "Ticket do ativo: ABEV3.SA\n",
            "\n",
            "\n",
            "Retorno previsto:R$  714.69\n",
            "Ficar fora do mercado no dia:  2021-06-10\n",
            "Ticket do ativo: B3SA3.SA\n",
            "\n",
            "\n",
            "Retorno previsto:R$  190.31\n",
            "Ficar fora do mercado no dia:  2021-06-10\n",
            "Ticket do ativo: BBDC3.SA\n",
            "\n",
            "\n",
            "Retorno previsto:R$  98.23\n",
            "Ficar fora do mercado no dia:  2021-06-10\n",
            "Ticket do ativo: BBDC4.SA\n",
            "\n",
            "\n",
            "Retorno previsto:R$  -1778.29\n",
            "Ficar fora do mercado no dia:  2021-06-10\n",
            "Ticket do ativo: BBAS3.SA\n",
            "\n",
            "\n",
            "Retorno previsto:R$  7197.58\n",
            "Ficar fora do mercado no dia:  2021-06-10\n",
            "Ticket do ativo: BPAC11.SA\n",
            "\n",
            "\n",
            "Retorno previsto:R$  -1041.09\n",
            "Ficar fora do mercado no dia:  2021-06-10\n",
            "Ticket do ativo: CSAN3.SA\n",
            "\n",
            "\n",
            "Retorno previsto:R$  -157.57\n",
            "Ficar fora do mercado no dia:  2021-06-10\n",
            "Ticket do ativo: EQTL3.SA\n",
            "\n",
            "\n",
            "Retorno previsto:R$  557.12\n",
            "Ficar fora do mercado no dia:  2021-06-10\n",
            "Ticket do ativo: GGBR4.SA\n",
            "\n",
            "\n",
            "Retorno previsto:R$  844.12\n",
            "Ficar fora do mercado no dia:  2021-06-10\n",
            "Ticket do ativo: NTCO3.SA\n",
            "\n",
            "\n",
            "Retorno previsto:R$  -1924.6\n",
            "Ficar fora do mercado no dia:  2021-06-10\n",
            "Ticket do ativo: GNDI3.SA\n",
            "\n",
            "\n",
            "Retorno previsto:R$  281.38\n",
            "Ficar fora do mercado no dia:  2021-06-10\n",
            "Ticket do ativo: ITSA4.SA\n",
            "\n",
            "\n",
            "Retorno previsto:R$  410.81\n",
            "Ficar fora do mercado no dia:  2021-06-10\n",
            "Ticket do ativo: ITUB4.SA\n",
            "\n",
            "\n",
            "Retorno previsto:R$  -928.54\n",
            "Ficar fora do mercado no dia:  2021-06-10\n",
            "Ticket do ativo: JBSS3.SA\n",
            "\n",
            "\n",
            "Retorno previsto:R$  -2864.4\n",
            "Ficar fora do mercado no dia:  2021-06-10\n",
            "Ticket do ativo: RENT3.SA\n",
            "\n",
            "\n",
            "Retorno previsto:R$  -196.96\n",
            "Ficar fora do mercado no dia:  2021-06-10\n",
            "Ticket do ativo: LREN3.SA\n",
            "\n",
            "\n",
            "Retorno previsto:R$  -1525.05\n",
            "Ficar fora do mercado no dia:  2021-06-10\n",
            "Ticket do ativo: MGLU3.SA\n",
            "\n",
            "\n",
            "Retorno previsto:R$  -371.42\n",
            "Ficar fora do mercado no dia:  2021-06-10\n",
            "Ticket do ativo: PETR3.SA\n",
            "\n",
            "\n",
            "Retorno previsto:R$  -455.83\n",
            "Ficar fora do mercado no dia:  2021-06-10\n",
            "Ticket do ativo: PETR4.SA\n",
            "\n",
            "\n",
            "Retorno previsto:R$  607.77\n",
            "Ficar fora do mercado no dia:  2021-06-10\n",
            "Ticket do ativo: BRDT3.SA\n",
            "\n",
            "\n",
            "Retorno previsto:R$  320.77\n",
            "Ficar fora do mercado no dia:  2021-06-10\n",
            "Ticket do ativo: RADL3.SA\n",
            "\n",
            "\n",
            "Retorno previsto:R$  -315.14\n",
            "Ficar fora do mercado no dia:  2021-06-10\n",
            "Ticket do ativo: RAIL3.SA\n",
            "\n",
            "\n",
            "Retorno previsto:R$  -574.0\n",
            "Ficar fora do mercado no dia:  2021-06-10\n",
            "Ticket do ativo: CSNA3.SA\n",
            "\n",
            "\n",
            "Retorno previsto:R$  -528.99\n",
            "Ficar fora do mercado no dia:  2021-06-10\n",
            "Ticket do ativo: SUZB3.SA\n",
            "\n",
            "\n",
            "Retorno previsto:R$  -748.46\n",
            "Ficar fora do mercado no dia:  2021-06-10\n",
            "Ticket do ativo: VALE3.SA\n",
            "\n",
            "\n",
            "Retorno previsto:R$  -1454.71\n",
            "Ficar fora do mercado no dia:  2021-06-10\n",
            "Ticket do ativo: WEGE3.SA\n",
            "\n",
            "\n",
            "Retorno previsto:R$  2374242.31\n",
            "Ficar fora do mercado no dia:  2021-06-10\n",
            "Ticket do ativo: ^BVSP\n"
          ],
          "name": "stdout"
        }
      ]
    },
    {
      "cell_type": "code",
      "metadata": {
        "id": "SHUtesubuoia"
      },
      "source": [
        ""
      ],
      "execution_count": null,
      "outputs": []
    }
  ]
}